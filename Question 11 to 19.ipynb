{
 "cells": [
  {
   "cell_type": "markdown",
   "id": "7a04b6c4-9227-4d3a-a4d3-a9ed5093d10e",
   "metadata": {},
   "source": [
    "QUESTION 11"
   ]
  },
  {
   "cell_type": "code",
   "execution_count": 15,
   "id": "4bc0261d-e9cc-45ce-9bd1-1c9db91e413c",
   "metadata": {},
   "outputs": [],
   "source": [
    "import constants"
   ]
  },
  {
   "cell_type": "code",
   "execution_count": 16,
   "id": "8012ec72-1694-4582-95f5-6d7a4d6c86e0",
   "metadata": {},
   "outputs": [
    {
     "name": "stdout",
     "output_type": "stream",
     "text": [
      "3.14159265359\n"
     ]
    }
   ],
   "source": [
    "print(constants.pi())"
   ]
  },
  {
   "cell_type": "code",
   "execution_count": 17,
   "id": "96c178fe-6ddb-4408-9be8-d01e99f0f8c2",
   "metadata": {},
   "outputs": [
    {
     "name": "stdout",
     "output_type": "stream",
     "text": [
      "299792458\n"
     ]
    }
   ],
   "source": [
    "print(constants.speed_of_light())"
   ]
  },
  {
   "cell_type": "markdown",
   "id": "59dbb6aa-d9de-48c3-97ae-ad94ae903b22",
   "metadata": {},
   "source": [
    "QUESTION 12"
   ]
  },
  {
   "cell_type": "code",
   "execution_count": 29,
   "id": "7d075b9a-eb0b-4e1a-aede-28f3236aa6e0",
   "metadata": {},
   "outputs": [],
   "source": [
    "import calculator"
   ]
  },
  {
   "cell_type": "code",
   "execution_count": 30,
   "id": "7808f3c8-2ce9-4230-a6a1-eb637f025372",
   "metadata": {},
   "outputs": [
    {
     "name": "stdin",
     "output_type": "stream",
     "text": [
      "Enter first number: 12\n",
      "Enter second number: 12\n"
     ]
    },
    {
     "name": "stdout",
     "output_type": "stream",
     "text": [
      "Multiplication of 12 & 12 is 144\n"
     ]
    }
   ],
   "source": [
    "calculator.operations('*')"
   ]
  },
  {
   "cell_type": "markdown",
   "id": "e9f73d9c-0237-4250-97f5-f1097f5a3ddd",
   "metadata": {},
   "source": [
    "QUESTION 13"
   ]
  },
  {
   "cell_type": "code",
   "execution_count": 12,
   "id": "4523bd01-9400-4fb5-888b-3734196d9a7d",
   "metadata": {},
   "outputs": [
    {
     "data": {
      "text/plain": [
       "<module 'ecommerce.Order_Processing' from '/home/jovyan/work/ecommerce/Order_Processing.py'>"
      ]
     },
     "execution_count": 12,
     "metadata": {},
     "output_type": "execute_result"
    }
   ],
   "source": [
    "from ecommerce import Order_Processing\n",
    "m = Order_Processing\n",
    "m"
   ]
  },
  {
   "cell_type": "markdown",
   "id": "6c5e0ae6-67af-4464-b54d-c217731c13a9",
   "metadata": {},
   "source": [
    "ecommerce/\n",
    "│\n",
    "├── product_management/\n",
    "│   ├── __init__.py\n",
    "│   ├── products.py\n",
    "│   └── inventory.py\n",
    "│\n",
    "├── order_processing/\n",
    "│   ├── __init__.py\n",
    "│   ├── orders.py\n",
    "│   └── customers.py\n",
    "│\n",
    "└── setup.py\n"
   ]
  },
  {
   "cell_type": "markdown",
   "id": "b1ce00dc-86a5-4870-bb14-823db4c07b8a",
   "metadata": {},
   "source": [
    "QUESTION 14"
   ]
  },
  {
   "cell_type": "code",
   "execution_count": 39,
   "id": "01c3dab9-e53a-465d-82bf-e71798619ee7",
   "metadata": {},
   "outputs": [],
   "source": [
    "import string_utils as su"
   ]
  },
  {
   "cell_type": "code",
   "execution_count": 40,
   "id": "c492e4a0-9e1f-431d-bea8-8d2956aa0f80",
   "metadata": {},
   "outputs": [
    {
     "data": {
      "text/plain": [
       "'Hello!'"
      ]
     },
     "execution_count": 40,
     "metadata": {},
     "output_type": "execute_result"
    }
   ],
   "source": [
    "su.capitalize(\"hello!\")"
   ]
  },
  {
   "cell_type": "code",
   "execution_count": 41,
   "id": "6a1c2e70-a355-48c0-8765-7507ad63a592",
   "metadata": {},
   "outputs": [
    {
     "name": "stdout",
     "output_type": "stream",
     "text": [
      "!OLLEH\n"
     ]
    }
   ],
   "source": [
    "su.reverse(\"HELLO!\")"
   ]
  },
  {
   "cell_type": "markdown",
   "id": "110c65a0-973d-4dc7-9c5d-349e4f321fc2",
   "metadata": {},
   "source": [
    "QUESTION 15"
   ]
  },
  {
   "cell_type": "code",
   "execution_count": 1,
   "id": "673646b7-47ae-40a8-863b-ce989e470535",
   "metadata": {},
   "outputs": [],
   "source": [
    "import file_operations as fo"
   ]
  },
  {
   "cell_type": "code",
   "execution_count": 45,
   "id": "8339c016-ba49-4d1f-a5cf-1e84a671ada1",
   "metadata": {},
   "outputs": [
    {
     "name": "stdout",
     "output_type": "stream",
     "text": [
      "Hello, this is Praveen Tak. Here creating modules.\n"
     ]
    }
   ],
   "source": [
    "fo.read_file(\"sample.txt\")"
   ]
  },
  {
   "cell_type": "code",
   "execution_count": 46,
   "id": "a888e491-cac2-45f8-b569-5c71b4431feb",
   "metadata": {},
   "outputs": [],
   "source": [
    "fo.append_file(\"sample.txt\",\"\\nGet here more knowledge about modules.\")"
   ]
  },
  {
   "cell_type": "code",
   "execution_count": 47,
   "id": "105651eb-ba04-4d80-af3d-792a042b33a7",
   "metadata": {},
   "outputs": [
    {
     "name": "stdout",
     "output_type": "stream",
     "text": [
      "Hello, this is Praveen Tak. Here creating modules.\n",
      "Get here more knowledge about modules.\n"
     ]
    }
   ],
   "source": [
    "fo.read_file(\"sample.txt\")"
   ]
  },
  {
   "cell_type": "code",
   "execution_count": 48,
   "id": "a5b1a674-cd92-47c7-acc4-2219e27c6d46",
   "metadata": {},
   "outputs": [],
   "source": [
    "fo.write_file(\"sample.txt\",\"Hello again, now I'm here with cool project.\")"
   ]
  },
  {
   "cell_type": "code",
   "execution_count": 49,
   "id": "7d819073-854c-4024-96f3-d4f6c7a35d9f",
   "metadata": {},
   "outputs": [
    {
     "name": "stdout",
     "output_type": "stream",
     "text": [
      "Hello again, now I'm here with cool project.\n"
     ]
    }
   ],
   "source": [
    "fo.read_file(\"sample.txt\")"
   ]
  },
  {
   "cell_type": "markdown",
   "id": "10f20e94-8dcf-4462-b20f-8351b3cf17d3",
   "metadata": {},
   "source": [
    "QUESTION 16"
   ]
  },
  {
   "cell_type": "code",
   "execution_count": 55,
   "id": "63e013e3-a56a-453e-9a95-39be9fc7f7fd",
   "metadata": {},
   "outputs": [],
   "source": [
    "text=\"Karan 20 12000\\nArun 19 12000\\nAtul 29 50000\""
   ]
  },
  {
   "cell_type": "code",
   "execution_count": 56,
   "id": "ab4fac09-76d5-4798-9caa-abeeb127a849",
   "metadata": {},
   "outputs": [],
   "source": [
    "fo.write_file(\"employees.txt\",text)"
   ]
  },
  {
   "cell_type": "code",
   "execution_count": 57,
   "id": "eeb2ef1b-34dc-4c51-a38f-5e749f3056bb",
   "metadata": {},
   "outputs": [
    {
     "name": "stdout",
     "output_type": "stream",
     "text": [
      "Karan 20 12000\n",
      "Arun 19 12000\n",
      "Atul 29 50000\n"
     ]
    }
   ],
   "source": [
    "fo.read_file(\"employees.txt\")"
   ]
  },
  {
   "cell_type": "markdown",
   "id": "6c437b07-0274-450d-ac78-9fa1e4323c71",
   "metadata": {},
   "source": [
    "QUESTION 17"
   ]
  },
  {
   "cell_type": "code",
   "execution_count": 2,
   "id": "ad1de4c3-d1eb-4f1f-b5b5-4f0ffde7a68f",
   "metadata": {},
   "outputs": [
    {
     "name": "stdout",
     "output_type": "stream",
     "text": [
      "['Hello my friend...\\n', 'Welcome to my inventory.']\n"
     ]
    }
   ],
   "source": [
    "fo.readlines(\"inventory.txt\")"
   ]
  },
  {
   "cell_type": "markdown",
   "id": "fb3b68f1-2a8d-4c08-b71d-682dbaabe755",
   "metadata": {},
   "source": [
    "QUESTION 18"
   ]
  },
  {
   "cell_type": "code",
   "execution_count": 4,
   "id": "2f8aaf79-4280-473c-812c-13655447e41b",
   "metadata": {},
   "outputs": [],
   "source": [
    "with open(\"expenses.txt\",\"r\") as file:\n",
    "    lines=file.readlines()"
   ]
  },
  {
   "cell_type": "code",
   "execution_count": 42,
   "id": "d38b1235-2d81-45e9-8b2e-9b051b0a4bc3",
   "metadata": {},
   "outputs": [],
   "source": [
    "def total_expenses(expenses):\n",
    "    expenses=[line.strip() for line in lines]\n",
    "    total=0\n",
    "    for expense in expenses:\n",
    "        amount=float(expense)\n",
    "        total+=amount\n",
    "    return total"
   ]
  },
  {
   "cell_type": "code",
   "execution_count": 43,
   "id": "c351f8de-1a5b-4265-9ead-a71915b2521f",
   "metadata": {},
   "outputs": [
    {
     "data": {
      "text/plain": [
       "1500.0"
      ]
     },
     "execution_count": 43,
     "metadata": {},
     "output_type": "execute_result"
    }
   ],
   "source": [
    "total_expenses(lines)"
   ]
  },
  {
   "cell_type": "markdown",
   "id": "48600936-df8a-4729-b4d3-14480ffaee51",
   "metadata": {},
   "source": [
    "QUESTION 19"
   ]
  },
  {
   "cell_type": "code",
   "execution_count": 17,
   "id": "ee9ed155-5634-43d8-8ccb-a8912fb08510",
   "metadata": {},
   "outputs": [],
   "source": [
    "with open(\"paragraph.txt\",\"r\") as file:\n",
    "    line=file.readline()"
   ]
  },
  {
   "cell_type": "code",
   "execution_count": 38,
   "id": "36c6558d-4127-42a8-b257-d8997c7da978",
   "metadata": {},
   "outputs": [],
   "source": [
    "def count_alpha(lines):\n",
    "    alpha=set(char.lower() for char in line if char.isalpha())\n",
    "    for i in alpha:\n",
    "        print(f\"{i}:{line.count(i)}\",end=\"\\t\")"
   ]
  },
  {
   "cell_type": "code",
   "execution_count": 39,
   "id": "b2edaa25-cce8-4997-b7a9-c9a9d698d98d",
   "metadata": {},
   "outputs": [
    {
     "name": "stdout",
     "output_type": "stream",
     "text": [
      "i:50\th:10\ts:36\tk:2\tf:7\tw:5\tu:15\to:32\tp:10\tv:7\tn:54\tx:1\tc:26\tq:1\te:54\ty:8\tl:28\tg:14\ta:46\tr:28\tm:16\tz:3\td:18\tt:38\tb:4\t"
     ]
    }
   ],
   "source": [
    "count_alpha(line)"
   ]
  },
  {
   "cell_type": "code",
   "execution_count": null,
   "id": "4dc053ce-10dd-4fd5-a173-d8b9baf9f7ca",
   "metadata": {},
   "outputs": [],
   "source": []
  }
 ],
 "metadata": {
  "kernelspec": {
   "display_name": "Python 3 (ipykernel)",
   "language": "python",
   "name": "python3"
  },
  "language_info": {
   "codemirror_mode": {
    "name": "ipython",
    "version": 3
   },
   "file_extension": ".py",
   "mimetype": "text/x-python",
   "name": "python",
   "nbconvert_exporter": "python",
   "pygments_lexer": "ipython3",
   "version": "3.10.8"
  }
 },
 "nbformat": 4,
 "nbformat_minor": 5
}
