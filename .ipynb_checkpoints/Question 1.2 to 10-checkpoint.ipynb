{
  "nbformat": 4,
  "nbformat_minor": 0,
  "metadata": {
    "colab": {
      "provenance": []
    },
    "kernelspec": {
      "name": "python3",
      "display_name": "Python 3"
    },
    "language_info": {
      "name": "python"
    }
  },
  "cells": [
    {
      "cell_type": "markdown",
      "source": [
        "QUESTION 1.2"
      ],
      "metadata": {
        "id": "zxmKgzUK3fZd"
      }
    },
    {
      "cell_type": "code",
      "source": [
        "from google.colab import drive\n",
        "drive.mount('/content/drive')"
      ],
      "metadata": {
        "id": "PEJLyU-WC5AM",
        "colab": {
          "base_uri": "https://localhost:8080/"
        },
        "outputId": "e855cc19-fc2d-435c-9f82-53dee609624c"
      },
      "execution_count": null,
      "outputs": [
        {
          "output_type": "stream",
          "name": "stdout",
          "text": [
            "Drive already mounted at /content/drive; to attempt to forcibly remount, call drive.mount(\"/content/drive\", force_remount=True).\n"
          ]
        }
      ]
    },
    {
      "cell_type": "code",
      "execution_count": null,
      "metadata": {
        "colab": {
          "base_uri": "https://localhost:8080/",
          "height": 110
        },
        "id": "gWZJnlA82ipx",
        "outputId": "f74f2d75-999d-4b22-ff25-baed11f7db2d"
      },
      "outputs": [
        {
          "output_type": "error",
          "ename": "SyntaxError",
          "evalue": "invalid syntax (<ipython-input-2-3e2a4182a315>, line 1)",
          "traceback": [
            "\u001b[0;36m  File \u001b[0;32m\"<ipython-input-2-3e2a4182a315>\"\u001b[0;36m, line \u001b[0;32m1\u001b[0m\n\u001b[0;31m    serial_no.=10\u001b[0m\n\u001b[0m              ^\u001b[0m\n\u001b[0;31mSyntaxError\u001b[0m\u001b[0;31m:\u001b[0m invalid syntax\n"
          ]
        }
      ],
      "source": [
        "serial_no.=10\n",
        "print(serial_no.)"
      ]
    },
    {
      "cell_type": "code",
      "source": [
        "1st_room=10\n",
        "print(1st_room)"
      ],
      "metadata": {
        "colab": {
          "base_uri": "https://localhost:8080/",
          "height": 110
        },
        "id": "-bxkMlw_2zWl",
        "outputId": "e976af1a-8d4b-41d5-ef04-5ef6ec3db969"
      },
      "execution_count": null,
      "outputs": [
        {
          "output_type": "error",
          "ename": "SyntaxError",
          "evalue": "invalid decimal literal (<ipython-input-3-f8a13efd7bb5>, line 1)",
          "traceback": [
            "\u001b[0;36m  File \u001b[0;32m\"<ipython-input-3-f8a13efd7bb5>\"\u001b[0;36m, line \u001b[0;32m1\u001b[0m\n\u001b[0;31m    1st_room=10\u001b[0m\n\u001b[0m    ^\u001b[0m\n\u001b[0;31mSyntaxError\u001b[0m\u001b[0;31m:\u001b[0m invalid decimal literal\n"
          ]
        }
      ]
    },
    {
      "cell_type": "code",
      "source": [
        "hundred$=100\n",
        "print(hundred$)"
      ],
      "metadata": {
        "colab": {
          "base_uri": "https://localhost:8080/",
          "height": 110
        },
        "id": "C6WPIlVM29MI",
        "outputId": "87438fb7-68e1-43b8-d303-341b7f91c75c"
      },
      "execution_count": null,
      "outputs": [
        {
          "output_type": "error",
          "ename": "SyntaxError",
          "evalue": "invalid syntax (<ipython-input-4-c125cb463327>, line 1)",
          "traceback": [
            "\u001b[0;36m  File \u001b[0;32m\"<ipython-input-4-c125cb463327>\"\u001b[0;36m, line \u001b[0;32m1\u001b[0m\n\u001b[0;31m    hundred$=100\u001b[0m\n\u001b[0m           ^\u001b[0m\n\u001b[0;31mSyntaxError\u001b[0m\u001b[0;31m:\u001b[0m invalid syntax\n"
          ]
        }
      ]
    },
    {
      "cell_type": "code",
      "source": [
        "total_marks=10\n",
        "print(total_marks)"
      ],
      "metadata": {
        "colab": {
          "base_uri": "https://localhost:8080/"
        },
        "id": "uWk42qEP3DPm",
        "outputId": "55f402f0-a0fd-40ce-c916-79fce4dbef5b"
      },
      "execution_count": null,
      "outputs": [
        {
          "output_type": "stream",
          "name": "stdout",
          "text": [
            "10\n"
          ]
        }
      ]
    },
    {
      "cell_type": "code",
      "source": [
        "total-marks=10\n",
        "print(total-marks)"
      ],
      "metadata": {
        "colab": {
          "base_uri": "https://localhost:8080/",
          "height": 110
        },
        "id": "H42No9ge3Ia3",
        "outputId": "3e86475b-4d14-4088-ab5c-87066fe4276b"
      },
      "execution_count": null,
      "outputs": [
        {
          "output_type": "error",
          "ename": "SyntaxError",
          "evalue": "cannot assign to expression here. Maybe you meant '==' instead of '='? (<ipython-input-6-2b3e0799ebe0>, line 1)",
          "traceback": [
            "\u001b[0;36m  File \u001b[0;32m\"<ipython-input-6-2b3e0799ebe0>\"\u001b[0;36m, line \u001b[0;32m1\u001b[0m\n\u001b[0;31m    total-marks=10\u001b[0m\n\u001b[0m    ^\u001b[0m\n\u001b[0;31mSyntaxError\u001b[0m\u001b[0;31m:\u001b[0m cannot assign to expression here. Maybe you meant '==' instead of '='?\n"
          ]
        }
      ]
    },
    {
      "cell_type": "code",
      "source": [
        "total marks=10\n",
        "print(total marks)"
      ],
      "metadata": {
        "colab": {
          "base_uri": "https://localhost:8080/",
          "height": 110
        },
        "id": "V3mJpZS53Mxg",
        "outputId": "48d696f1-104c-4e72-b4e7-19d826ca29b9"
      },
      "execution_count": null,
      "outputs": [
        {
          "output_type": "error",
          "ename": "SyntaxError",
          "evalue": "invalid syntax (<ipython-input-7-2022474a099e>, line 1)",
          "traceback": [
            "\u001b[0;36m  File \u001b[0;32m\"<ipython-input-7-2022474a099e>\"\u001b[0;36m, line \u001b[0;32m1\u001b[0m\n\u001b[0;31m    total marks=10\u001b[0m\n\u001b[0m          ^\u001b[0m\n\u001b[0;31mSyntaxError\u001b[0m\u001b[0;31m:\u001b[0m invalid syntax\n"
          ]
        }
      ]
    },
    {
      "cell_type": "code",
      "source": [
        "True=10\n",
        "print(True)"
      ],
      "metadata": {
        "colab": {
          "base_uri": "https://localhost:8080/",
          "height": 110
        },
        "id": "IiXAUg-y3SNS",
        "outputId": "06ff2e9c-ae8e-4f97-a92e-bddf54de4d8f"
      },
      "execution_count": null,
      "outputs": [
        {
          "output_type": "error",
          "ename": "SyntaxError",
          "evalue": "cannot assign to True (<ipython-input-8-8263a867f856>, line 1)",
          "traceback": [
            "\u001b[0;36m  File \u001b[0;32m\"<ipython-input-8-8263a867f856>\"\u001b[0;36m, line \u001b[0;32m1\u001b[0m\n\u001b[0;31m    True=10\u001b[0m\n\u001b[0m    ^\u001b[0m\n\u001b[0;31mSyntaxError\u001b[0m\u001b[0;31m:\u001b[0m cannot assign to True\n"
          ]
        }
      ]
    },
    {
      "cell_type": "code",
      "source": [
        "_Percentag=100\n",
        "print(_Percentag)"
      ],
      "metadata": {
        "id": "veH5wsPh3XCG",
        "colab": {
          "base_uri": "https://localhost:8080/"
        },
        "outputId": "a9115500-07b7-44e3-b434-8f7757779e32"
      },
      "execution_count": null,
      "outputs": [
        {
          "output_type": "stream",
          "name": "stdout",
          "text": [
            "100\n"
          ]
        }
      ]
    },
    {
      "cell_type": "markdown",
      "source": [
        "QUESTION 1.3"
      ],
      "metadata": {
        "id": "aLWLpWhx3mVd"
      }
    },
    {
      "cell_type": "code",
      "source": [
        "name=[\"Mohan\",\"dash\",\"karam\",\"chandra\",\"gandhi\",\"Bapu\"]\n",
        "#a>> add an element \"freedom_fighter\" in this list at the 0th index\n",
        "name.insert(0,\"freedom_fighter\")\n",
        "print(name)"
      ],
      "metadata": {
        "colab": {
          "base_uri": "https://localhost:8080/"
        },
        "id": "YCaAjCnK3biA",
        "outputId": "4b61250a-43be-4b33-eade-37c650f6b201"
      },
      "execution_count": null,
      "outputs": [
        {
          "output_type": "stream",
          "name": "stdout",
          "text": [
            "['freedom_fighter', 'Mohan', 'dash', 'karam', 'chandra', 'gandhi', 'Bapu']\n"
          ]
        }
      ]
    },
    {
      "cell_type": "code",
      "source": [
        "#b>>\n",
        "name=[\"freedomFighter\",\"Bapuji\",\"MOhan\",\"dash\",\"karam\",\"chandra\",\"gandhi\"]\n",
        "length1=len((name[-len(name)+1:-1:2]))\n",
        "print(length1)"
      ],
      "metadata": {
        "colab": {
          "base_uri": "https://localhost:8080/"
        },
        "id": "XIz6Y_1I4FP6",
        "outputId": "e86b4e29-c9e7-4436-867b-ca5cba73b1a6"
      },
      "execution_count": null,
      "outputs": [
        {
          "output_type": "stream",
          "name": "stdout",
          "text": [
            "3\n"
          ]
        }
      ]
    },
    {
      "cell_type": "code",
      "source": [
        "name[-len(name)+1:-1:2]"
      ],
      "metadata": {
        "colab": {
          "base_uri": "https://localhost:8080/"
        },
        "id": "Dxng4CpC46lj",
        "outputId": "0cd0ee28-1af5-4429-fad6-d9333ba07b60"
      },
      "execution_count": null,
      "outputs": [
        {
          "output_type": "execute_result",
          "data": {
            "text/plain": [
              "['Bapuji', 'dash', 'chandra']"
            ]
          },
          "metadata": {},
          "execution_count": 12
        }
      ]
    },
    {
      "cell_type": "code",
      "source": [
        "name[-6]"
      ],
      "metadata": {
        "colab": {
          "base_uri": "https://localhost:8080/",
          "height": 36
        },
        "id": "wdObJOSo4-Mt",
        "outputId": "328aba19-f11c-425a-fc9e-d0d5c875f098"
      },
      "execution_count": null,
      "outputs": [
        {
          "output_type": "execute_result",
          "data": {
            "text/plain": [
              "'Bapuji'"
            ],
            "application/vnd.google.colaboratory.intrinsic+json": {
              "type": "string"
            }
          },
          "metadata": {},
          "execution_count": 13
        }
      ]
    },
    {
      "cell_type": "code",
      "source": [
        "length2=len((name[-len(name)+1:-1]))\n",
        "print(length2)"
      ],
      "metadata": {
        "colab": {
          "base_uri": "https://localhost:8080/"
        },
        "id": "keF0ua9o5PzA",
        "outputId": "10a4c4f3-65f4-47c4-85bb-88a47c89f3b3"
      },
      "execution_count": null,
      "outputs": [
        {
          "output_type": "stream",
          "name": "stdout",
          "text": [
            "5\n"
          ]
        }
      ]
    },
    {
      "cell_type": "code",
      "source": [
        "name[-len(name)+1:-1:1] == name[-len(name)+1:-1]"
      ],
      "metadata": {
        "colab": {
          "base_uri": "https://localhost:8080/"
        },
        "id": "WeAfzLc-560G",
        "outputId": "a168b9f5-d321-4ce0-d6e2-02e5fccc6db7"
      },
      "execution_count": null,
      "outputs": [
        {
          "output_type": "execute_result",
          "data": {
            "text/plain": [
              "True"
            ]
          },
          "metadata": {},
          "execution_count": 15
        }
      ]
    },
    {
      "cell_type": "code",
      "source": [
        "name[-len(name)+1:-1]"
      ],
      "metadata": {
        "colab": {
          "base_uri": "https://localhost:8080/"
        },
        "id": "oT0fKfRF6AWB",
        "outputId": "2cf9ce79-3044-48e6-b3eb-774de97d30a5"
      },
      "execution_count": null,
      "outputs": [
        {
          "output_type": "execute_result",
          "data": {
            "text/plain": [
              "['Bapuji', 'MOhan', 'dash', 'karam', 'chandra']"
            ]
          },
          "metadata": {},
          "execution_count": 16
        }
      ]
    },
    {
      "cell_type": "code",
      "source": [
        "#c>>\n",
        "name.extend({\"NetaJi\",\"Bose\"})\n",
        "print(name)"
      ],
      "metadata": {
        "colab": {
          "base_uri": "https://localhost:8080/"
        },
        "id": "d43ocIzp6Wii",
        "outputId": "994d17ff-9e31-4cac-9555-8583a453d68d"
      },
      "execution_count": null,
      "outputs": [
        {
          "output_type": "stream",
          "name": "stdout",
          "text": [
            "['freedomFighter', 'Bapuji', 'MOhan', 'dash', 'karam', 'chandra', 'gandhi', 'NetaJi', 'Bose']\n"
          ]
        }
      ]
    },
    {
      "cell_type": "code",
      "source": [
        "from tempfile import tempdir\n",
        "#d>>\n",
        "name=[\"Bapuji\",\"dash\",\"karam\",\"chandra\",\"gandhi\",\"Mohan\"]\n",
        "temp=name[-1]\n",
        "name[-1]=name[0]\n",
        "name[0]=temp\n",
        "print(name)\n",
        "print(temp)"
      ],
      "metadata": {
        "colab": {
          "base_uri": "https://localhost:8080/"
        },
        "id": "erN9Wo1h6kxO",
        "outputId": "ad8c933b-26d3-4e25-8604-7bba45275142"
      },
      "execution_count": null,
      "outputs": [
        {
          "output_type": "stream",
          "name": "stdout",
          "text": [
            "['Mohan', 'dash', 'karam', 'chandra', 'gandhi', 'Bapuji']\n",
            "Mohan\n"
          ]
        }
      ]
    },
    {
      "cell_type": "code",
      "source": [
        "name[-1]"
      ],
      "metadata": {
        "colab": {
          "base_uri": "https://localhost:8080/",
          "height": 36
        },
        "id": "fnu45GB17tZB",
        "outputId": "93f637fd-2f27-4dc4-a291-5dacddb77225"
      },
      "execution_count": null,
      "outputs": [
        {
          "output_type": "execute_result",
          "data": {
            "text/plain": [
              "'Bapuji'"
            ],
            "application/vnd.google.colaboratory.intrinsic+json": {
              "type": "string"
            }
          },
          "metadata": {},
          "execution_count": 19
        }
      ]
    },
    {
      "cell_type": "code",
      "source": [
        "name[0]"
      ],
      "metadata": {
        "colab": {
          "base_uri": "https://localhost:8080/",
          "height": 36
        },
        "id": "pLzKdBxU76AT",
        "outputId": "9d764d6f-31a6-4be1-9d65-4d8e25ad4278"
      },
      "execution_count": null,
      "outputs": [
        {
          "output_type": "execute_result",
          "data": {
            "text/plain": [
              "'Mohan'"
            ],
            "application/vnd.google.colaboratory.intrinsic+json": {
              "type": "string"
            }
          },
          "metadata": {},
          "execution_count": 20
        }
      ]
    },
    {
      "cell_type": "code",
      "source": [
        "name[-1]=name[0]\n",
        "name[0]"
      ],
      "metadata": {
        "colab": {
          "base_uri": "https://localhost:8080/",
          "height": 36
        },
        "id": "T5JrarIP79ID",
        "outputId": "4e7390bf-3ceb-4278-b8d1-5f7238f6f8b7"
      },
      "execution_count": null,
      "outputs": [
        {
          "output_type": "execute_result",
          "data": {
            "text/plain": [
              "'Mohan'"
            ],
            "application/vnd.google.colaboratory.intrinsic+json": {
              "type": "string"
            }
          },
          "metadata": {},
          "execution_count": 21
        }
      ]
    },
    {
      "cell_type": "code",
      "source": [
        "name[-1]"
      ],
      "metadata": {
        "colab": {
          "base_uri": "https://localhost:8080/",
          "height": 36
        },
        "id": "BpqELN318Ek_",
        "outputId": "7254516f-4815-424d-eeff-07a5537b897d"
      },
      "execution_count": null,
      "outputs": [
        {
          "output_type": "execute_result",
          "data": {
            "text/plain": [
              "'Mohan'"
            ],
            "application/vnd.google.colaboratory.intrinsic+json": {
              "type": "string"
            }
          },
          "metadata": {},
          "execution_count": 22
        }
      ]
    },
    {
      "cell_type": "markdown",
      "source": [
        "QUESTION 1.4"
      ],
      "metadata": {
        "id": "-DUWXERq8QiM"
      }
    },
    {
      "cell_type": "code",
      "source": [
        "animal=[\"Human\",\"cat\",\"mat\",\"cat\",\"rat\",\"Human\",\"Liom\"]\n",
        "print(animal.count(\"Human\"))\n",
        "print(animal.count(\"rat\"))\n",
        "print(len(animal))"
      ],
      "metadata": {
        "colab": {
          "base_uri": "https://localhost:8080/"
        },
        "id": "ts7a0_Pn8LaR",
        "outputId": "2f0daeef-50ff-4312-d5f5-0256fb99437b"
      },
      "execution_count": null,
      "outputs": [
        {
          "output_type": "stream",
          "name": "stdout",
          "text": [
            "2\n",
            "1\n",
            "7\n"
          ]
        }
      ]
    },
    {
      "cell_type": "markdown",
      "source": [
        "QUESTION 1.5"
      ],
      "metadata": {
        "id": "eOYPT-yy8_04"
      }
    },
    {
      "cell_type": "code",
      "source": [
        "tuple1=(10,20,\"Apple\",3.4,'a',[\"master\",\"ji\"],(\"sita\",\"geeta\",22),[{\"roll_no\":1},{\"name\":\"Navneet\"}])"
      ],
      "metadata": {
        "id": "PNJTQ4H48w9m"
      },
      "execution_count": null,
      "outputs": []
    },
    {
      "cell_type": "code",
      "source": [
        "print(len(tuple1))"
      ],
      "metadata": {
        "colab": {
          "base_uri": "https://localhost:8080/"
        },
        "id": "cMXqXusy8-9K",
        "outputId": "4e2d0996-7e09-453a-90bc-c4508e725e15"
      },
      "execution_count": null,
      "outputs": [
        {
          "output_type": "stream",
          "name": "stdout",
          "text": [
            "8\n"
          ]
        }
      ]
    },
    {
      "cell_type": "code",
      "source": [
        "print(tuple1[-1][-1][\"name\"])"
      ],
      "metadata": {
        "colab": {
          "base_uri": "https://localhost:8080/"
        },
        "id": "8OgXNSSh9lKR",
        "outputId": "08119708-bb21-4c52-fd53-27841c71aca7"
      },
      "execution_count": null,
      "outputs": [
        {
          "output_type": "stream",
          "name": "stdout",
          "text": [
            "Navneet\n"
          ]
        }
      ]
    },
    {
      "cell_type": "code",
      "source": [
        "print(tuple1[-1][0][\"roll_no\"])"
      ],
      "metadata": {
        "colab": {
          "base_uri": "https://localhost:8080/"
        },
        "id": "T9Ud4iWS945N",
        "outputId": "c3d2ac72-13a5-40d4-bebb-73db6ba3934a"
      },
      "execution_count": null,
      "outputs": [
        {
          "output_type": "stream",
          "name": "stdout",
          "text": [
            "1\n"
          ]
        }
      ]
    },
    {
      "cell_type": "code",
      "source": [
        "print(tuple1[-3][1])"
      ],
      "metadata": {
        "colab": {
          "base_uri": "https://localhost:8080/"
        },
        "id": "bvzWSkze-ITP",
        "outputId": "19f962f3-5e82-4438-b882-79d78907e503"
      },
      "execution_count": null,
      "outputs": [
        {
          "output_type": "stream",
          "name": "stdout",
          "text": [
            "ji\n"
          ]
        }
      ]
    },
    {
      "cell_type": "code",
      "source": [
        "print(tuple1[-2][-1])"
      ],
      "metadata": {
        "colab": {
          "base_uri": "https://localhost:8080/"
        },
        "id": "eMVM66T7-TaI",
        "outputId": "5d0ae5d1-fd9c-42d2-a94f-3b8f007e156e"
      },
      "execution_count": null,
      "outputs": [
        {
          "output_type": "stream",
          "name": "stdout",
          "text": [
            "22\n"
          ]
        }
      ]
    },
    {
      "cell_type": "markdown",
      "source": [
        "QUESTION 1.6"
      ],
      "metadata": {
        "id": "KnyxLsMU-gRv"
      }
    },
    {
      "cell_type": "code",
      "source": [
        "signal_color=input(\"Enter the signal color (RED/YELLOW/GREEN):\")\n",
        "if signal_color==\"RED\":\n",
        "  print(\"Stop\")\n",
        "elif signal_color==\"YELLOW\":\n",
        "  print(\"Stay\")\n",
        "elif signal_color==\"GREEN\":\n",
        "  print(\"Go\")\n",
        "else:\n",
        "  print(\"Invalid Color\")"
      ],
      "metadata": {
        "colab": {
          "base_uri": "https://localhost:8080/"
        },
        "id": "Ezf8r6LD-d5I",
        "outputId": "41d7eb1c-0693-4d29-b2f0-1b3e3548883b"
      },
      "execution_count": null,
      "outputs": [
        {
          "output_type": "stream",
          "name": "stdout",
          "text": [
            "Enter the signal color (RED/YELLOW/GREEN):RED\n",
            "Stop\n"
          ]
        }
      ]
    },
    {
      "cell_type": "markdown",
      "source": [
        "QUESTION 1.7"
      ],
      "metadata": {
        "id": "DEIYUuxlADid"
      }
    },
    {
      "cell_type": "code",
      "source": [
        "ops=input(\"Enter operator (*,-,/,+):\")\n",
        "num1=int(input(\"Enter first number:\"))\n",
        "num2=int(input(\"Enter second number:\"))\n",
        "if ops==\"*\":\n",
        "  print(f\"Multiplication of {num1} & {num2} is {num1*num2}\")\n",
        "elif ops==\"-\":\n",
        "  print(f\"Subtraction of {num2} from {num1} is {num1-num2}\")\n",
        "elif ops==\"/\":\n",
        "  print(f\"Divison of {num1} by {num2} is {num1/num2}\")\n",
        "elif ops==\"+\":\n",
        "  print(f\"Addition of {num1} & {num2} is {num1+num2}\")\n",
        "else:\n",
        "  print(\"Invalid operator\")"
      ],
      "metadata": {
        "colab": {
          "base_uri": "https://localhost:8080/"
        },
        "id": "hj_cXv-z-qN5",
        "outputId": "2c2abd5b-ae04-4894-817d-435913e78104"
      },
      "execution_count": null,
      "outputs": [
        {
          "output_type": "stream",
          "name": "stdout",
          "text": [
            "Enter operator (*,-,/,+):-\n",
            "Enter first number:50\n",
            "Enter second number:25\n",
            "Subtraction of 25 from 50 is 25\n"
          ]
        }
      ]
    },
    {
      "cell_type": "markdown",
      "source": [
        "QUESTION 1.8"
      ],
      "metadata": {
        "id": "OtrT0hXRqc7V"
      }
    },
    {
      "cell_type": "code",
      "source": [
        "num1=int(input(\"Enter first number:\"))\n",
        "num2=int(input(\"Enter second numbver:\"))\n",
        "num3=int(input(\"Enter third number:\"))\n",
        "if num1>num2:\n",
        "  if num1>num3:\n",
        "    print(f\"{num1} is greater than {num2} and {num3}\")\n",
        "  else:\n",
        "    print(f\"{num3} is greater than {num1} and {num2}\")\n",
        "else:\n",
        "  if num2>num3:\n",
        "    print(f\"{num2} is greater than {num1} and {num3}\")\n",
        "  else:\n",
        "    print(f\"{num3} is greater than {num1} and {num2}\")"
      ],
      "metadata": {
        "colab": {
          "base_uri": "https://localhost:8080/"
        },
        "id": "lssMot0YqcnN",
        "outputId": "d20bd40c-b35a-4c25-ee9a-8b4cbf014013"
      },
      "execution_count": null,
      "outputs": [
        {
          "output_type": "stream",
          "name": "stdout",
          "text": [
            "Enter first number:25\n",
            "Enter second numbver:24\n",
            "Enter third number:23\n",
            "25 is greater than 24 and 23\n"
          ]
        }
      ]
    },
    {
      "cell_type": "markdown",
      "source": [
        "1QUESTION 1.9"
      ],
      "metadata": {
        "id": "otMKAorCrjbQ"
      }
    },
    {
      "cell_type": "code",
      "source": [
        "num=int(input(\"Enter a number:\"))\n",
        "i=1\n",
        "factors=[]\n",
        "while(i<=num):\n",
        "  if num%i==0:\n",
        "    factors.append(i)\n",
        "  i=i+1\n",
        "print(factors)"
      ],
      "metadata": {
        "colab": {
          "base_uri": "https://localhost:8080/"
        },
        "id": "TKMCvC84rjP-",
        "outputId": "0b7ecfea-c8a8-44db-880f-d9ee892a306e"
      },
      "execution_count": null,
      "outputs": [
        {
          "output_type": "stream",
          "name": "stdout",
          "text": [
            "Enter a number:30\n",
            "[1, 2, 3, 5, 6, 10, 15, 30]\n"
          ]
        }
      ]
    },
    {
      "cell_type": "markdown",
      "source": [
        "QUESTION 1.11"
      ],
      "metadata": {
        "id": "Wl-nlymSwd-d"
      }
    },
    {
      "cell_type": "code",
      "source": [
        "prime=[]\n",
        "for i in range(2,101):\n",
        "  for j in range(2,101):\n",
        "    if i%j==0:\n",
        "      break\n",
        "  if i==j:\n",
        "    prime.append(i)\n",
        "print(prime)"
      ],
      "metadata": {
        "colab": {
          "base_uri": "https://localhost:8080/"
        },
        "id": "XzUW5Y8ZwdMR",
        "outputId": "bc68f79c-b6d4-48b1-dc8f-a207c03bec4d"
      },
      "execution_count": null,
      "outputs": [
        {
          "output_type": "stream",
          "name": "stdout",
          "text": [
            "[2, 3, 5, 7, 11, 13, 17, 19, 23, 29, 31, 37, 41, 43, 47, 53, 59, 61, 67, 71, 73, 79, 83, 89, 97]\n"
          ]
        }
      ]
    },
    {
      "cell_type": "markdown",
      "source": [
        "QUESTION 1.10"
      ],
      "metadata": {
        "id": "fPmDXU6aAIPZ"
      }
    },
    {
      "cell_type": "code",
      "source": [
        "def summation(*num):\n",
        "  sum=0\n",
        "  for i in num:\n",
        "    if i<=0:\n",
        "      break\n",
        "    sum+=i\n",
        "  print(sum)"
      ],
      "metadata": {
        "id": "E_E05tbFBLZp"
      },
      "execution_count": null,
      "outputs": []
    },
    {
      "cell_type": "code",
      "source": [
        "summation(1,2,3,4,-5,6,10)"
      ],
      "metadata": {
        "colab": {
          "base_uri": "https://localhost:8080/"
        },
        "id": "Av_Z8GkIAyzf",
        "outputId": "6659cd55-510a-4f68-a31a-a15b0e6cce80"
      },
      "execution_count": null,
      "outputs": [
        {
          "output_type": "stream",
          "name": "stdout",
          "text": [
            "10\n"
          ]
        }
      ]
    },
    {
      "cell_type": "markdown",
      "source": [
        "QUESTION 1.12"
      ],
      "metadata": {
        "id": "MjiLSV4rBfEp"
      }
    },
    {
      "cell_type": "code",
      "source": [
        "total_marks=0\n",
        "all_marks=[]\n",
        "for i in range(1,6):\n",
        "  marks=int(input(f\"Enter marks of subject{i}:\"))\n",
        "  total_marks=marks+total_marks\n",
        "  all_marks.append(f\"Subject{i}:{marks}\")\n",
        "print(f\"Marks of student is {all_marks}\")\n",
        "percentage=(total_marks/5)\n",
        "print(f\"Pecentage of student is {percentage}\")\n",
        "if percentage>=85:\n",
        "  print(\"Grade A\")\n",
        "elif percentage<85 and percentage>=75:\n",
        "  print(\"Grade B\")\n",
        "elif percentage<75 and percentage>=50:\n",
        "  print(\"Grade C\")\n",
        "elif percentage<30 and percentage>=50:\n",
        "  print(\"Grade D\")\n",
        "elif percentage<30:\n",
        "  print(\"Reappear\")"
      ],
      "metadata": {
        "colab": {
          "base_uri": "https://localhost:8080/"
        },
        "id": "3F10M5_SA1yP",
        "outputId": "767c141e-23ac-4212-99c4-b011bf956f15"
      },
      "execution_count": null,
      "outputs": [
        {
          "output_type": "stream",
          "name": "stdout",
          "text": [
            "Enter marks of subject1:85\n",
            "Enter marks of subject2:75\n",
            "Enter marks of subject3:90\n",
            "Enter marks of subject4:85\n",
            "Enter marks of subject5:75\n",
            "Marks of student is ['Subject1:85', 'Subject2:75', 'Subject3:90', 'Subject4:85', 'Subject5:75']\n",
            "Pecentage of student is 82.0\n",
            "Grade B\n"
          ]
        }
      ]
    },
    {
      "cell_type": "markdown",
      "source": [
        "QUESTION 1.13"
      ],
      "metadata": {
        "id": "FDBuZ3GZGIhR"
      }
    },
    {
      "cell_type": "code",
      "source": [
        "wavelength=int(input(\"Enter the Wavelength of color:\"))\n",
        "if wavelength>=400.0 and wavelength<440.0:\n",
        "  print(\"Violet\")\n",
        "elif wavelength>=440.0 and wavelength<460.0:\n",
        "  print(\"Indigo\")\n",
        "elif wavelength>=460.0 and wavelength<500.0:\n",
        "  print(\"Blue\")\n",
        "elif wavelength>=500.0 and wavelength<570.0:\n",
        "  print(\"Green\")\n",
        "elif wavelength>=570.0 and wavelength<590.0:\n",
        "  print(\"Yellow\")\n",
        "elif wavelength>=590.0 and wavelength<620.0:\n",
        "  print(\"Orange\")\n",
        "elif wavelength>=620.0 and wavelength<720.0:\n",
        "  print(\"Blue\")\n",
        "else:\n",
        "  print(\"Invalid Wavelength\")"
      ],
      "metadata": {
        "colab": {
          "base_uri": "https://localhost:8080/"
        },
        "id": "g_P-J7KUB404",
        "outputId": "35ec6ba9-e1cb-4de4-a291-cc38ac7a1a85"
      },
      "execution_count": null,
      "outputs": [
        {
          "output_type": "stream",
          "name": "stdout",
          "text": [
            "Enter the Wavelength of color:550\n",
            "Green\n"
          ]
        }
      ]
    },
    {
      "cell_type": "markdown",
      "source": [
        "QUESTION 1.14"
      ],
      "metadata": {
        "id": "Ma67UcRy0haK"
      }
    },
    {
      "cell_type": "code",
      "source": [
        "class Space:\n",
        "  def __init__(self):\n",
        "    self.mass_earth=5.972*10**24\n",
        "    self.mass_moon=7.34767309*10**22\n",
        "    self.mass_sun=1.989*10**30\n",
        "    self.gravity_earth=9.80665\n",
        "    self.distance_earth_Sun=1.496*10**11\n",
        "    self.distance_moon_earth=3.844*10**8\n",
        "    self.gravity1=((6.674*10**-11)*( self.mass_sun)*(self.mass_earth))/(self.distance_earth_Sun**2)\n",
        "    self.gravity2=((6.674*10**-11)*( self.mass_earth)*(self.mass_moon))/(self.distance_moon_earth**2)\n",
        "  def earth_and_sun(self):\n",
        "    print(f\"The gravitational force between the Earth and the Sun is {self.gravity1}N\")\n",
        "  def moon_and_earth(self):\n",
        "    print(f\"The gravitational force between the Moon and the Earth is {self.gravity2}N\")\n",
        "  def strong(self):\n",
        "    if self.gravity1>self.gravity2:\n",
        "      print(\"Earth is gravitationally stronger than Moon\")\n",
        "    else:\n",
        "      print(\"Moon is gravitationally stronger than Earth\")\n",
        "  def attractions(self):\n",
        "    if self.gravity1==self.gravity2:\n",
        "      print(\"Earth and Moon are equally gravitationally attracted\")\n",
        "    else:\n",
        "      print(\"Earth and Moon are not equally gravitationally attracted\")\n",
        "    self.strong()"
      ],
      "metadata": {
        "id": "r5Zwx9xvHRcj"
      },
      "execution_count": null,
      "outputs": []
    },
    {
      "cell_type": "code",
      "source": [
        "solar=Space()\n",
        "solar.earth_and_sun()\n",
        "solar.moon_and_earth()\n",
        "solar.strong()\n",
        "solar.attractions()\n",
        "solar.end=\"end\""
      ],
      "metadata": {
        "colab": {
          "base_uri": "https://localhost:8080/"
        },
        "id": "9R0mInVm1Dh5",
        "outputId": "d64b9019-8354-4b2f-e586-f64eb79312d5"
      },
      "execution_count": null,
      "outputs": [
        {
          "output_type": "stream",
          "name": "stdout",
          "text": [
            "The gravitational force between the Earth and the Sun is 3.542236855858046e+22N\n",
            "The gravitational force between the Moon and the Earth is 1.9819334566450407e+20N\n",
            "Earth is gravitationally stronger than Moon\n",
            "Earth and Moon are not equally gravitationally attracted\n",
            "Earth is gravitationally stronger than Moon\n"
          ]
        }
      ]
    },
    {
      "cell_type": "markdown",
      "source": [
        "QUESTION 2"
      ],
      "metadata": {
        "id": "hw5YytO960yT"
      }
    },
    {
      "cell_type": "code",
      "source": [
        "class Student:\n",
        "  def __init__(self,name,age,roll_number):\n",
        "    self.__name=name\n",
        "    self.__age=age\n",
        "    self.__roll_number=roll_number\n",
        "  def getter(self):\n",
        "    return self.__name,self.__age,self.__roll_number\n",
        "  def setter(self,name,age,roll_number):\n",
        "    self.__name=name\n",
        "    self.__age=age\n",
        "    self.__roll_number=roll_number\n",
        "  def display(self):\n",
        "    print(f\"Name:{self.__name}\\nAge:{self.__age}\\nRoll Number:{self.__roll_number}\")\n",
        "  def update(self,name,age,roll_number):\n",
        "    self.__name=name\n",
        "    self.__age=age\n",
        "    self.__roll_number=roll_number\n",
        "    print(\"Updated Successfully\")"
      ],
      "metadata": {
        "id": "C5Az_0725IyV"
      },
      "execution_count": null,
      "outputs": []
    },
    {
      "cell_type": "code",
      "source": [
        "student1=Student(\"Praveen Tak\",20,159357)\n",
        "student1.getter()\n",
        "student1.display()\n",
        "print()\n",
        "student1.update(\"Praveen Tak\",25,258645)\n",
        "print()\n",
        "student1.getter()\n",
        "student1.display()"
      ],
      "metadata": {
        "colab": {
          "base_uri": "https://localhost:8080/"
        },
        "id": "w6itOb6B8UPw",
        "outputId": "76b07cd2-ee4d-4f6b-ed52-31c7d6e00a1f"
      },
      "execution_count": null,
      "outputs": [
        {
          "output_type": "stream",
          "name": "stdout",
          "text": [
            "Name:Praveen Tak\n",
            "Age:20\n",
            "Roll Number:159357\n",
            "\n",
            "Updated Successfully\n",
            "\n",
            "Name:Praveen Tak\n",
            "Age:25\n",
            "Roll Number:258645\n"
          ]
        }
      ]
    },
    {
      "cell_type": "markdown",
      "source": [
        "QUSESTION 3"
      ],
      "metadata": {
        "id": "Mbq2D16o-lVO"
      }
    },
    {
      "cell_type": "code",
      "source": [
        "class LibraryBook:\n",
        "  def __init__(self,name,author,avail_status):\n",
        "    self.name=name\n",
        "    self.author=author\n",
        "    self.avail_status=avail_status\n",
        "  def return_book(self,name):\n",
        "    self.name=name\n",
        "    self.avail_status=\"Available\"\n",
        "    return f\"{self.name} is now available\"\n",
        "  def borrow_book(self,name):\n",
        "    self.name=name\n",
        "    self.avail_status=\"Not Available\"\n",
        "    return f\"{self.name} is now not available\""
      ],
      "metadata": {
        "id": "3Z0Amk2R8tiz"
      },
      "execution_count": null,
      "outputs": []
    },
    {
      "cell_type": "code",
      "source": [
        "book=LibraryBook(\"The Great Gatsby\",\"F. Scott Fitzgerald\",\"Available\")\n",
        "book.borrow_book(\"The Great Gatsby\")\n",
        "book.return_book(\"The Great Gatsby\")"
      ],
      "metadata": {
        "colab": {
          "base_uri": "https://localhost:8080/",
          "height": 36
        },
        "id": "EHM9j26w_8_7",
        "outputId": "1610a2ce-b604-4c91-e9a2-fce9df18dea1"
      },
      "execution_count": null,
      "outputs": [
        {
          "output_type": "execute_result",
          "data": {
            "text/plain": [
              "'The Great Gatsby is now available'"
            ],
            "application/vnd.google.colaboratory.intrinsic+json": {
              "type": "string"
            }
          },
          "metadata": {},
          "execution_count": 44
        }
      ]
    },
    {
      "cell_type": "markdown",
      "source": [
        "QUESTION 4"
      ],
      "metadata": {
        "id": "jA7RZB1sBTrD"
      }
    },
    {
      "cell_type": "code",
      "source": [
        "class Account:\n",
        "    def __init__(self,account_number,balance):\n",
        "        self.account_number=account_number\n",
        "        self.balance=balance\n",
        "    def withdraw(self,amount):\n",
        "        if amount<=self.balance:\n",
        "            self.balance-=amount\n",
        "            print(f\"Withdrawl of {amount} successful. Remaining balance:{self.balance}\")\n",
        "        else:\n",
        "            print(\"Insufficient funds\")\n",
        "    def deposite(self,amount):\n",
        "        self.balance+=amount\n",
        "        print(f\"Deposite of {amount} successful. Remaining balance:{self.balance}\")\n",
        "    def get_balance(self,account_number):\n",
        "        if account_number==self.account_number:\n",
        "            return self.balance\n",
        "        else:\n",
        "            print(\"Invalid Account Number\")\n",
        "\n",
        "class SavingsAccount(Account):\n",
        "    def __init__(self,account_number,balance,interest_rate):\n",
        "        super().__init__(account_number,balance)\n",
        "        self.interest_rate=interest_rate\n",
        "    def withdraw(self,amount):\n",
        "        if amount<=self.balance:\n",
        "            self.balance-=amount\n",
        "            print(f\"Withdrawl of {amount} from savings account successful. Remaining balance:{self.balance}\")\n",
        "        else:\n",
        "            print(\"Insufficient funds\")\n",
        "    def deposite(self,amount):\n",
        "        self.balance+=amount\n",
        "        print(f\"Deposite of {amount} successful. Remaining balance:{self.balance}\")\n",
        "    def get_balance(self,account_number):\n",
        "        if account_number==self.account_number:\n",
        "            return self.balance\n",
        "        else:\n",
        "            print(\"Invalid Account Number\")\n",
        "\n",
        "class CheckingAccount(Account):\n",
        "    def __init__(self,account_number,balance,overdraft_limit):\n",
        "        super().__init__(account_number,balance)\n",
        "        self.overdraft_limit=overdraft_limit\n",
        "    def withdraw(self,amount):\n",
        "        if amount<=self.balance:\n",
        "            self.balance-=amount\n",
        "            print(f\"Withdrawl of {amount} from checking account successful. Remaining balance:{self.balance}\")\n",
        "        else:\n",
        "            print(\"Exceeded overfraft limit\")\n",
        "    def deposite(self,amount):\n",
        "        self.balance+=amount\n",
        "        print(f\"Deposite of {amount} successful. Remaining balance:{self.balance}\")\n",
        "    def get_balance(self,account_number):\n",
        "        if account_number==self.account_number:\n",
        "            return self.balance\n",
        "        else:\n",
        "            print(\"Invalid Account Number\")"
      ],
      "metadata": {
        "id": "zqzcimhMAfGP"
      },
      "execution_count": null,
      "outputs": []
    },
    {
      "cell_type": "code",
      "source": [
        "account1=Account(123456,10000)\n",
        "account1.withdraw(5000)\n",
        "account1.deposite(500)\n",
        "print(account1.get_balance(123456))\n",
        "account2=SavingsAccount(123456,10000,5)\n",
        "account2.withdraw(5000)\n",
        "account2.deposite(500)\n",
        "print(account2.get_balance(123456))\n",
        "account3=CheckingAccount(123456,10000,1000)\n",
        "account3.withdraw(5000)\n",
        "account3.deposite(500)\n",
        "print(account3.get_balance(123456))"
      ],
      "metadata": {
        "colab": {
          "base_uri": "https://localhost:8080/"
        },
        "id": "hk12mdFZBifz",
        "outputId": "762382c7-9919-48ca-f763-90c5a13daf8b"
      },
      "execution_count": null,
      "outputs": [
        {
          "output_type": "stream",
          "name": "stdout",
          "text": [
            "Withdrawl of 5000 successful. Remaining balance:5000\n",
            "Deposite of 500 successful. Remaining balance:5500\n",
            "5500\n",
            "Withdrawl of 5000 from savings account successful. Remaining balance:5000\n",
            "Deposite of 500 successful. Remaining balance:5500\n",
            "5500\n",
            "Withdrawl of 5000 from checking account successful. Remaining balance:5000\n",
            "Deposite of 500 successful. Remaining balance:5500\n",
            "5500\n"
          ]
        }
      ]
    },
    {
      "cell_type": "markdown",
      "source": [
        "QUESTION 5"
      ],
      "metadata": {
        "id": "QbQ18vhxCyAS"
      }
    },
    {
      "cell_type": "code",
      "source": [
        "class Animal:\n",
        "    def make_sound(self):\n",
        "        pass\n",
        "class Dog(Animal):\n",
        "    def make_sound(self):\n",
        "        return \"Woof!\"\n",
        "class Cat(Animal):\n",
        "    def make_sound(self):\n",
        "        return \"Meow!\"\n",
        "animals=[Animal(),Dog(),Cat()]\n",
        "for animal in animals:\n",
        "    print(f\"Animal speaks:{animal.make_sound()}\")"
      ],
      "metadata": {
        "colab": {
          "base_uri": "https://localhost:8080/"
        },
        "id": "nfR5OqtZCepy",
        "outputId": "f9208a3c-51de-4470-ce42-d29f2fa3c42d"
      },
      "execution_count": null,
      "outputs": [
        {
          "output_type": "stream",
          "name": "stdout",
          "text": [
            "Animal speaks:None\n",
            "Animal speaks:Woof!\n",
            "Animal speaks:Meow!\n"
          ]
        }
      ]
    },
    {
      "cell_type": "markdown",
      "source": [
        "QUESTION 6"
      ],
      "metadata": {
        "id": "15MxjIZUSt8-"
      }
    },
    {
      "cell_type": "code",
      "source": [
        "from types import new_class\n",
        "class MenuItem:\n",
        "  def __init__(self,name,description,price,category,id_number):\n",
        "    self.name=name\n",
        "    self.description=description\n",
        "    self.price=price\n",
        "    self.category=category\n",
        "    self.__id_number=id_number\n",
        "  def new_item(self,item,id_number):\n",
        "    self.name=item\n",
        "    self.__id_number=id_number\n",
        "    print(f\"{self.name} is added to the menu\")\n",
        "  def update_info(self,item,description,price):\n",
        "    self.name=item\n",
        "    self.description=description\n",
        "    self.price=price\n",
        "    print(f\"{self.name} is updated\")\n",
        "  def remove_item(self,item):\n",
        "    self.name=item\n",
        "    print(f\"{self.name} is removed from the menu\")\n",
        "\n",
        "class FoodItem(MenuItem):\n",
        "  def __init__(self,name,description,price,category,id_number,vegORnonveg):\n",
        "    super().__init__(name,description,price,category,id_number)\n",
        "    self.vegORnonveg=vegORnonveg\n",
        "  def get_id_number(self):\n",
        "    return self.__id_number\n",
        "  def ingredients(self,ingredients):\n",
        "    print(f\"Ingredients of {self.name} are {ingredients}\")\n",
        "\n",
        "class BeverageItem(MenuItem):\n",
        "  def __init__(self,name,description,price,category,id_number,size):\n",
        "    super().__init__(name,description,price,category,id_number)\n",
        "    self.size=size\n",
        "  def get_id_number(self):\n",
        "    return self.__id_number\n",
        "  def get_size(self):\n",
        "    return self.size\n",
        "\n",
        "menu=MenuItem(\"Quick Bites\",\"It contain the quick meals to consume...\",150,\"Lunch\",\"15963\")\n",
        "menu.new_item(\"Tacos\",123654)\n",
        "print()\n",
        "food=FoodItem(\"Tacos\",\"Its a quick bite...\",89,\"Quick Bites\",123654,\"veg\")\n",
        "food.ingredients(\"Mayo,Vegetables\")\n",
        "print()\n",
        "beverage=BeverageItem(\"Cold Coffee\",\"Just mind freshing coffee\",120,\"Drinks\",123654,\"Small\")\n",
        "beverage.get_size()"
      ],
      "metadata": {
        "id": "QJcidZjwDbzr",
        "colab": {
          "base_uri": "https://localhost:8080/",
          "height": 109
        },
        "outputId": "40145985-6185-40e3-d2fb-bb3730226192"
      },
      "execution_count": null,
      "outputs": [
        {
          "output_type": "stream",
          "name": "stdout",
          "text": [
            "Tacos is added to the menu\n",
            "\n",
            "Ingredients of Tacos are Mayo,Vegetables\n",
            "\n"
          ]
        },
        {
          "output_type": "execute_result",
          "data": {
            "text/plain": [
              "'Small'"
            ],
            "application/vnd.google.colaboratory.intrinsic+json": {
              "type": "string"
            }
          },
          "metadata": {},
          "execution_count": 48
        }
      ]
    },
    {
      "cell_type": "markdown",
      "source": [
        "QUESTION 7"
      ],
      "metadata": {
        "id": "SVqsORyjyV2U"
      }
    },
    {
      "cell_type": "code",
      "source": [
        "class Room:\n",
        "  def __init__(self,room_number,room_type,rate,availability,id_number):\n",
        "    self.room_number=room_number\n",
        "    self.room_type=room_type\n",
        "    self.rate=rate\n",
        "    self.__availability=availability\n",
        "    self.__id_number=id_number\n",
        "  def book_room( self,room_number):\n",
        "    self.room_number=room_number\n",
        "    self.__availability=\"Not Available\"\n",
        "    print(f\"Room {self.room_number} is booked\")\n",
        "  def check_in(self,room_number):\n",
        "    self.room_number=room_number\n",
        "    self.__availability=\"Available\"\n",
        "    print(f\"Room {self.room_number} is checked in\")\n",
        "  def check_out(self,room_number):\n",
        "    self.room_number=room_number\n",
        "    self.__availability=\"Available\"\n",
        "    print(f\"Room {self.room_number} is checked out\")\n",
        "\n",
        "class SuiteRoom(Room):\n",
        "  def __init__(self,room_number,room_type,rate,availability,id_number,bed_type):\n",
        "    super().__init__(room_number,room_type,rate,availability,id_number)\n",
        "    self.bed_type=bed_type\n",
        "  def book_room( self,room_number):\n",
        "    self.room_number=room_number\n",
        "    self.__availability=\"Not Available\"\n",
        "    print(f\"Room {self.room_number} is booked\")\n",
        "  def check_in(self,room_number):\n",
        "    self.room_number=room_number\n",
        "    self.__availability=\"Available\"\n",
        "    print(f\"Room {self.room_number} is checked in\")\n",
        "  def check_out(self,room_number):\n",
        "    self.room_number=room_number\n",
        "    self.__availability=\"Available\"\n",
        "    print(f\"Room {self.room_number} is checked out\")\n",
        "\n",
        "class StandardRoom(Room):\n",
        "  def __init__(self,room_number,room_type,rate,availability,id_number,bed_type):\n",
        "    super().__init__(room_number,room_type,rate,availability,id_number)\n",
        "    self.bed_type=bed_type\n",
        "  def book_room( self,room_number):\n",
        "    self.room_number=room_number\n",
        "    self.__availability=\"Not Available\"\n",
        "    print(f\"Room {self.room_number} is booked\")\n",
        "  def check_in(self,room_number):\n",
        "    self.room_number=room_number\n",
        "    self.__availability=\"Available\"\n",
        "    print(f\"Room {self.room_number} is checked in\")\n",
        "  def check_out(self,room_number):\n",
        "    self.room_number=room_number\n",
        "    self.__availability=\"Available\"\n",
        "    print(f\"Room {self.room_number} is checked out\")\n",
        "\n",
        "room=Room(102,\"Standard\",1000,\"Available\",123654)\n",
        "room.book_room(102)\n",
        "room.check_in(102)\n",
        "room.check_out(102)\n",
        "print()\n",
        "suite=SuiteRoom(103,\"Suite\",2000,\"Available\",123654,\"Double\")\n",
        "suite.book_room(103)\n",
        "suite.check_in(103)\n",
        "suite.check_out(103)\n",
        "print()\n",
        "standard=StandardRoom(104,\"Standard\",1000,\"Available\",123654,\"Single\")\n",
        "standard.book_room(104)\n",
        "standard.check_in(104)\n",
        "standard.check_out(104)"
      ],
      "metadata": {
        "id": "g7mBDcRaWhkQ",
        "colab": {
          "base_uri": "https://localhost:8080/"
        },
        "outputId": "85fc10cb-bc4d-4a6d-d06d-415bb0b55e59"
      },
      "execution_count": null,
      "outputs": [
        {
          "output_type": "stream",
          "name": "stdout",
          "text": [
            "Room 102 is booked\n",
            "Room 102 is checked in\n",
            "Room 102 is checked out\n",
            "\n",
            "Room 103 is booked\n",
            "Room 103 is checked in\n",
            "Room 103 is checked out\n",
            "\n",
            "Room 104 is booked\n",
            "Room 104 is checked in\n",
            "Room 104 is checked out\n"
          ]
        }
      ]
    },
    {
      "cell_type": "markdown",
      "source": [
        "QUESTION 8"
      ],
      "metadata": {
        "id": "RbFYp1kk0mnt"
      }
    },
    {
      "cell_type": "code",
      "source": [
        "class FitnessClub:\n",
        "  def __init__(self,name,age,membership,membership_status):\n",
        "    self.name=name\n",
        "    self.age=age\n",
        "    self.membership=membership\n",
        "    self.__membership_status=membership_status\n",
        "  def new_member(self,name,age,membership):\n",
        "    self.name=name\n",
        "    self.age=age\n",
        "    self.membership=membership\n",
        "    self.__membership_status=\"Active\"\n",
        "    print(f\"{self.name} is added to the fitness club\")\n",
        "  def renew_membership(self,name):\n",
        "    self.name=name\n",
        "    self.__membership_status=\"Active\"\n",
        "    print(f\"{self.name} is renewed\")\n",
        "  def cancel_membership(self,name):\n",
        "    self.name=name\n",
        "    self.__membership_status=\"Inactive\"\n",
        "    print(f\"{self.name} is cancelled\")\n",
        "\n",
        "class FamilyMember(FitnessClub):\n",
        "  def __init__(self,name,age,membership,membership_status,family_member):\n",
        "    self.name=[]\n",
        "    self.age=[]\n",
        "    self.membership=membership\n",
        "    self.membership_status=membership_status\n",
        "    self.family_member=family_member\n",
        "  def new_member(self,name,age,membership):\n",
        "    self.name.append(name)\n",
        "    self.age.append(age)\n",
        "    self.membership=membership\n",
        "    self.__membership_status=\"Active\"\n",
        "    print(f\"{self.name} is added to the fitness club\")\n",
        "\n",
        "class IndividualMember(FitnessClub):\n",
        "  def __init__(self,name,age,membership,membership_status,fitness_level):\n",
        "    super().__init__(name,age,membership,membership_status)\n",
        "    self.fitness_level=fitness_level\n",
        "  def fitness_level(self):\n",
        "    print(f\"{self.name} is a {self.fitness_level} member\")\n",
        "\n",
        "member=FitnessClub(\"Praveen Tak\",20,\"Basic\",\"Active\")\n",
        "member.new_member(\"Praveen Tak\",20,\"Basic\")\n",
        "print()\n",
        "family=FamilyMember([\"Praveen Tak\",\"Ram Kumar Tak\"],[20,45],\"Basic\",\"Active\",\"Father\")\n",
        "family.new_member(\"Laxmi Tak\",42,\"Basic\")\n",
        "print()\n",
        "individual=IndividualMember(\"Praveen Tak\",20,\"Basic\",\"Active\",\"Beginner\")\n",
        "individual.fitness_level"
      ],
      "metadata": {
        "colab": {
          "base_uri": "https://localhost:8080/",
          "height": 109
        },
        "id": "jJJpIuby0k_b",
        "outputId": "824dd96c-a9a6-436b-c0d9-717fe2e6dfe8"
      },
      "execution_count": null,
      "outputs": [
        {
          "output_type": "stream",
          "name": "stdout",
          "text": [
            "Praveen Tak is added to the fitness club\n",
            "\n",
            "['Laxmi Tak'] is added to the fitness club\n",
            "\n"
          ]
        },
        {
          "output_type": "execute_result",
          "data": {
            "text/plain": [
              "'Beginner'"
            ],
            "application/vnd.google.colaboratory.intrinsic+json": {
              "type": "string"
            }
          },
          "metadata": {},
          "execution_count": 64
        }
      ]
    },
    {
      "cell_type": "markdown",
      "source": [
        "QUESTION 9"
      ],
      "metadata": {
        "id": "8d6zBRKT5w1-"
      }
    },
    {
      "cell_type": "code",
      "source": [
        "class Event:\n",
        "  def __init__(self,name,date,time,location,attendees,id_number):\n",
        "    self.name=name\n",
        "    self.date=date\n",
        "    self.time=time\n",
        "    self.location=location\n",
        "    self.__attendies=[]\n",
        "    self.__id_number=id_number\n",
        "  def new_event(self,name,date,time,location):\n",
        "    self.name=name\n",
        "    self.date=date\n",
        "    self.time=time\n",
        "    self.location=location\n",
        "    print(f\"{self.name} is added to the event\")\n",
        "  def add_attendees(self,name):\n",
        "    self.__attendies.append(name)\n",
        "  def remove_attendees(self,name):\n",
        "    self.__attendies.remove(name)\n",
        "  def total_attendees(self):\n",
        "    return len(self.__attendies)\n",
        "\n",
        "class PrivateEvent(Event):\n",
        "  def __init__(self,name,date,time,location,attendees,id_number,event_type):\n",
        "    super().__init__(name,date,time,location,attendees,id_number)\n",
        "    self.event_type=event_type\n",
        "  def check_in(self,name):\n",
        "    self.__attendies.append(name)\n",
        "  def check_out(self,name):\n",
        "    self.__attendies.remove(name)\n",
        "class PublicEvent(Event):\n",
        "  def __init__(self,name,date,time,location,attendees,id_number,event_type):\n",
        "    super().__init__(name,date,time,location,attendees,id_number)\n",
        "    self.event_type=event_type\n",
        "  def attendees_allowed(self,allowed):\n",
        "    self.allowed=allowed\n",
        "    if self.allowed==True:\n",
        "      print(\"Attendees are allowed\")\n",
        "    else:\n",
        "      print(\"Attendees are not allowed\")\n",
        "\n",
        "event=Event(\"House Warming Party\",\"12.12.2024\",\"12.00 PM\",\"Holme Villas\",[\"Arun\",\"Geeta\",\"Annoy\"],12567,)\n",
        "event.new_event(\"House Warming Party\",\"13.12.2024\",\"09.00 AM\",\"Holme Villas\")\n",
        "print()\n",
        "private=PrivateEvent(\"Birthday Party\",\"11.09.2024\",\"08.00 PM\",\"Hotel Laxay\",[\"Arun\",\"Geeta\",\"Annoy\"],12486,\"Private\")\n",
        "private.new_event(\"House Warming Party\",\"13.12.2024\",\"09.00 AM\",\"Holme Villas\")\n",
        "private.add_attendees(\"Kunal\")\n",
        "private.add_attendees(\"Chaitnya\")\n",
        "private.add_attendees(\"Praveen\")\n",
        "print()\n",
        "public=PublicEvent(\"DJ Night\",\"15.12.2024\",\"09.00 AM\",\"Rock Garden\",[],12567,\"Public\")\n",
        "public.attendees_allowed(True)"
      ],
      "metadata": {
        "colab": {
          "base_uri": "https://localhost:8080/"
        },
        "id": "rQ1koFwr5W9w",
        "outputId": "0f4acecb-9397-4f55-e1e1-512903aff044"
      },
      "execution_count": null,
      "outputs": [
        {
          "output_type": "stream",
          "name": "stdout",
          "text": [
            "House Warming Party is added to the event\n",
            "\n",
            "House Warming Party is added to the event\n",
            "\n",
            "Attendees are allowed\n"
          ]
        }
      ]
    },
    {
      "cell_type": "markdown",
      "source": [
        "QUESTION 10"
      ],
      "metadata": {
        "id": "e7b7KLN69YW1"
      }
    },
    {
      "cell_type": "code",
      "source": [
        "class Flight:\n",
        "  def __init__(self,flight_number,departure_airports,arrival_airports,departure_time,arrival_time,available_seats,id_number):\n",
        "    self.flight_number=flight_number\n",
        "    self.departure_airports=departure_airports\n",
        "    self.arrival_airports=arrival_airports\n",
        "    self.departure_time=departure_time\n",
        "    self.arrival_time=arrival_time\n",
        "    self.__available_seats=available_seats\n",
        "    self.__id_number=id_number\n",
        "  def book_flight(self,flight_number):\n",
        "    self.flight_number=flight_number\n",
        "    self.__available_seats-=1\n",
        "    print(f\"Flight {self.flight_number} is booked\")\n",
        "  def cancel_flight(self,flight_number):\n",
        "    self.flight_number=flight_number\n",
        "    self.__available_seats+=1\n",
        "    print(f\"Flight {self.flight_number} is cancelled\")\n",
        "  def get_available_seats(self):\n",
        "    return self.__available_seats\n",
        "\n",
        "class DomesticFlight(Flight):\n",
        "  def __init__(self,flight_number,departure_airports,arrival_airports,departure_time,arrival_time,available_seats,id_number,domestic_flight):\n",
        "    super().__init__(flight_number,departure_airports,arrival_airports,departure_time,arrival_time,available_seats,id_number)\n",
        "    self.domestic_flight=domestic_flight\n",
        "  def get_domestic_flight(self):\n",
        "    return self.domestic_flight\n",
        "\n",
        "class InternationalFlight(Flight):\n",
        "  def __init__(self,flight_number,departure_airports,arrival_airports,departure_time,arrival_time,available_seats,id_number,international_flight):\n",
        "    super().__init__(flight_number,departure_airports,arrival_airports,departure_time,arrival_time,available_seats,id_number)\n",
        "    self.international_flight=international_flight\n",
        "  def get_international_flight(self):\n",
        "    return self.international_flight\n",
        "\n",
        "flight=Flight(123456,\"Delhi\",\"Mumbai\",\"09.00 AM\",\"12.00 PM\",100,123654)\n",
        "flight.book_flight(123456)\n",
        "print()\n",
        "domestic=DomesticFlight(123456,\"Delhi\",\"Mumbai\",\"09.00 AM\",\"12.00 PM\",100,123654,\"Domestic\")\n",
        "print(domestic.get_domestic_flight())\n",
        "print()\n",
        "international=InternationalFlight(156893,\"Delhi\",\"London\",\"10.00 AM\",\"09.00 PM\",100,356897,\"International\")\n",
        "print(international.get_international_flight())"
      ],
      "metadata": {
        "colab": {
          "base_uri": "https://localhost:8080/"
        },
        "id": "Fy9UqVeB8e0T",
        "outputId": "caffe72e-977a-4d7c-b99e-7b34efbe2a29"
      },
      "execution_count": null,
      "outputs": [
        {
          "output_type": "stream",
          "name": "stdout",
          "text": [
            "Flight 123456 is booked\n",
            "\n",
            "Domestic\n",
            "\n",
            "International\n"
          ]
        }
      ]
    },
    {
      "cell_type": "markdown",
      "source": [
        "QUESTION 11"
      ],
      "metadata": {
        "id": "FouS-9bs_f0U"
      }
    },
    {
      "cell_type": "code",
      "source": [
        "import sys\n",
        "sys.path.append('/content/drive/MyDrive/Colab Notebooks/constants.py')  # Replace with your actual path\n",
        "import constants"
      ],
      "metadata": {
        "id": "xwPTNxCn_fkD",
        "colab": {
          "base_uri": "https://localhost:8080/"
        },
        "outputId": "dcbf74c6-4e31-40b3-ccbb-5feae9afe5db"
      },
      "execution_count": null,
      "outputs": [
        {
          "output_type": "error",
          "ename": "ModuleNotFoundError",
          "evalue": "No module named 'constants'",
          "traceback": [
            "\u001b[0;31m---------------------------------------------------------------------------\u001b[0m",
            "\u001b[0;31mModuleNotFoundError\u001b[0m                       Traceback (most recent call last)",
            "\u001b[0;32m<ipython-input-2-c1b004faefa5>\u001b[0m in \u001b[0;36m<cell line: 3>\u001b[0;34m()\u001b[0m\n\u001b[1;32m      1\u001b[0m \u001b[0;32mimport\u001b[0m \u001b[0msys\u001b[0m\u001b[0;34m\u001b[0m\u001b[0;34m\u001b[0m\u001b[0m\n\u001b[1;32m      2\u001b[0m \u001b[0msys\u001b[0m\u001b[0;34m.\u001b[0m\u001b[0mpath\u001b[0m\u001b[0;34m.\u001b[0m\u001b[0mappend\u001b[0m\u001b[0;34m(\u001b[0m\u001b[0;34m'/content/drive/MyDrive/Colab Notebooks/constants.py'\u001b[0m\u001b[0;34m)\u001b[0m  \u001b[0;31m# Replace with your actual path\u001b[0m\u001b[0;34m\u001b[0m\u001b[0;34m\u001b[0m\u001b[0m\n\u001b[0;32m----> 3\u001b[0;31m \u001b[0;32mimport\u001b[0m \u001b[0mconstants\u001b[0m\u001b[0;34m\u001b[0m\u001b[0;34m\u001b[0m\u001b[0m\n\u001b[0m",
            "\u001b[0;31mModuleNotFoundError\u001b[0m: No module named 'constants'",
            "",
            "\u001b[0;31m---------------------------------------------------------------------------\u001b[0;32m\nNOTE: If your import is failing due to a missing package, you can\nmanually install dependencies using either !pip or !apt.\n\nTo view examples of installing some common dependencies, click the\n\"Open Examples\" button below.\n\u001b[0;31m---------------------------------------------------------------------------\u001b[0m\n"
          ],
          "errorDetails": {
            "actions": [
              {
                "action": "open_url",
                "actionText": "Open Examples",
                "url": "/notebooks/snippets/importing_libraries.ipynb"
              }
            ]
          }
        }
      ]
    },
    {
      "cell_type": "code",
      "source": [],
      "metadata": {
        "id": "OsRybWXqCUXd"
      },
      "execution_count": null,
      "outputs": []
    }
  ]
}