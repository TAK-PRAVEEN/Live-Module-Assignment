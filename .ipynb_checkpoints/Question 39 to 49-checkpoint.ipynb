{
 "cells": [
  {
   "cell_type": "markdown",
   "id": "af2a9579-3f7c-418b-a1d3-d09fcc725d4b",
   "metadata": {},
   "source": [
    "QUESTION 39 How would you create a basic Flask route that displays \"Hello, World!\" on the homepage?"
   ]
  },
  {
   "cell_type": "code",
   "execution_count": null,
   "id": "cabfe5f5-5ba1-4966-a15c-4fc2a3c29ead",
   "metadata": {},
   "outputs": [
    {
     "name": "stdout",
     "output_type": "stream",
     "text": [
      " * Serving Flask app '__main__'\n",
      " * Debug mode: off\n"
     ]
    },
    {
     "name": "stderr",
     "output_type": "stream",
     "text": [
      "WARNING: This is a development server. Do not use it in a production deployment. Use a production WSGI server instead.\n",
      " * Running on all addresses (0.0.0.0)\n",
      " * Running on http://127.0.0.1:8080\n",
      " * Running on http://172.18.0.27:8080\n",
      "Press CTRL+C to quit\n"
     ]
    }
   ],
   "source": [
    "from flask import Flask\n",
    "\n",
    "app=Flask(__name__)\n",
    "\n",
    "@app.route('/')\n",
    "def hello_world():\n",
    "    return \"<h1> Hello World! </h1>\"\n",
    "\n",
    "\n",
    "if __name__=='__main__':\n",
    "    app.run(host='0.0.0.0',port=8080)"
   ]
  },
  {
   "cell_type": "markdown",
   "id": "f234161b-1026-4791-8d33-211552cf9a23",
   "metadata": {},
   "source": [
    "QUESTION 40 .Explain how to set up a Flask application to handle form submissions using POST requests."
   ]
  },
  {
   "cell_type": "code",
   "execution_count": null,
   "id": "02c1ec3d-fa33-4946-9fc8-4006e1facfe8",
   "metadata": {},
   "outputs": [
    {
     "name": "stdout",
     "output_type": "stream",
     "text": [
      " * Serving Flask app '__main__'\n",
      " * Debug mode: off\n"
     ]
    },
    {
     "name": "stderr",
     "output_type": "stream",
     "text": [
      "WARNING: This is a development server. Do not use it in a production deployment. Use a production WSGI server instead.\n",
      " * Running on all addresses (0.0.0.0)\n",
      " * Running on http://127.0.0.1:5050\n",
      " * Running on http://172.18.0.27:5050\n",
      "Press CTRL+C to quit\n"
     ]
    }
   ],
   "source": [
    "from flask import Flask, request, jsonify, render_template\n",
    "\n",
    "app=Flask(__name__)\n",
    "\n",
    "@app.route('/')\n",
    "def form():\n",
    "    return render_template(\"index.html\")\n",
    "\n",
    "@app.route('/submit',methods=['POST'])\n",
    "def details():\n",
    "    name = request.form.get('name')\n",
    "    age = request.form.get('age')\n",
    "    return f\"Name:{name} and age:{age} received successfully!\"\n",
    "\n",
    "if __name__=='__main__':\n",
    "    app.run(host='0.0.0.0',port=5050)"
   ]
  },
  {
   "cell_type": "markdown",
   "id": "39154533-aa12-4f72-ab84-e0687b28e43d",
   "metadata": {},
   "source": [
    "QUESTION 41 Write a Flask route that accepts a parameter in the URL and displays it on the page."
   ]
  },
  {
   "cell_type": "code",
   "execution_count": null,
   "id": "803ef1ca-dfd2-4ec4-b319-391a8a0c2c4f",
   "metadata": {},
   "outputs": [
    {
     "name": "stdout",
     "output_type": "stream",
     "text": [
      " * Serving Flask app '__main__'\n",
      " * Debug mode: off\n"
     ]
    },
    {
     "name": "stderr",
     "output_type": "stream",
     "text": [
      "WARNING: This is a development server. Do not use it in a production deployment. Use a production WSGI server instead.\n",
      " * Running on all addresses (0.0.0.0)\n",
      " * Running on http://127.0.0.1:8000\n",
      " * Running on http://172.18.0.27:8000\n",
      "Press CTRL+C to quit\n"
     ]
    }
   ],
   "source": [
    "from flask import Flask, request, jsonify,render_template\n",
    "\n",
    "app=Flask(__name__)\n",
    "\n",
    "@app.route('/name')\n",
    "def display():\n",
    "    data=request.args.get('name')\n",
    "    return f\"{data}\"\n",
    "\n",
    "\n",
    "if __name__=='__main__':\n",
    "    app.run(host='0.0.0.0',port=8000)"
   ]
  },
  {
   "cell_type": "markdown",
   "id": "79d50c73-f43a-4c2a-8571-d5700a1001e5",
   "metadata": {},
   "source": [
    "QUESTION 42 How can you implement user authentication in a Flask application?"
   ]
  },
  {
   "cell_type": "code",
   "execution_count": null,
   "id": "a4fcb048-dd91-4d64-8b7a-8f5233954b41",
   "metadata": {},
   "outputs": [],
   "source": [
    "from flask import Flask, render_template, url_for, request, redirect\n",
    "from flask_login import LoginManager, UserMixin, login_user, login_required, logout_user, current_user\n",
    "from flask_mysqldb import MySQL\n",
    "from flask_bcrypt import Bcrypt\n",
    "\n",
    "app = Flask(__name__)\n",
    "app.secret_key = \"thisisme\"\n",
    "\n",
    "app.config['MYSQL_HOST'] = \"localhost\"\n",
    "app.config['MYSQL_USER'] = \"root\"\n",
    "app.config['MYSQL_PASSWORD'] = \"tak.praveen852\"\n",
    "app.config['MYSQL_DB'] = \"flask_database\"\n",
    "\n",
    "mysql = MySQL(app)\n",
    "login_manage = LoginManager()\n",
    "login_manage.init_app(app)\n",
    "bcrypt = Bcrypt(app)\n",
    "\n",
    "#User Loader function\n",
    "@login_manage.user_loader\n",
    "def load_user(user_id):\n",
    "    return User.get(user_id) \n",
    "\n",
    "class User(UserMixin):\n",
    "    def __init__(self, user_id, name, email):\n",
    "        self.id = user_id\n",
    "        self.name = name\n",
    "        self.email = email\n",
    "\n",
    "    @staticmethod\n",
    "    def get(user_id):\n",
    "        cursor = mysql.connection.cursor()\n",
    "        cursor.execute('SELECT  name,email FROM users WHERE id = %s', (user_id))\n",
    "        result = cursor.fetchone()\n",
    "        cursor.close()\n",
    "        if result:\n",
    "            return User(user_id, result[0], result[1])\n",
    "\n",
    "\n",
    "\n",
    "@app.route(\"/\")\n",
    "def index():\n",
    "    return render_template(\"home.html\")\n",
    "\n",
    "@app.route(\"/login\", methods = ['GET','POST'])\n",
    "def login():\n",
    "    if request.method == 'POST':\n",
    "        # handle login\n",
    "        email = request.form['email']\n",
    "        password = request.form['password']\n",
    "\n",
    "        cursor = mysql.connection.cursor()\n",
    "\n",
    "        cursor.execute('SELECT id, name, email, password FROM users WHERE email = %s', [email])\n",
    "        user_data = cursor.fetchone()\n",
    "        cursor.close()\n",
    "\n",
    "        if user_data and bcrypt.check_password_hash(user_data[3], password):\n",
    "            user = User(user_data[0], user_data[1], user_data[2])\n",
    "            login_user(user)\n",
    "            return redirect(url_for('dashboard'))\n",
    "\n",
    "    return render_template('login.html')\n",
    "\n",
    "\n",
    "@app.route(\"/register\", methods = ['GET','POST'])\n",
    "def register():\n",
    "    if request.method == 'POST':\n",
    "        # handle register\n",
    "        name = request.form['name']\n",
    "        email = request.form['email']\n",
    "        password = request.form['password']\n",
    "\n",
    "        hashed_password = bcrypt.generate_password_hash(password).decode('utf-8')\n",
    "\n",
    "        cursor = mysql.connection.cursor()\n",
    "\n",
    "        cursor.execute('INSERT INTO users (name, email, password) values (%s, %s, %s)',(name, email, hashed_password))\n",
    "        mysql.connection.commit()\n",
    "        cursor.close()\n",
    "        return redirect(url_for('login'))\n",
    "\n",
    "    return render_template('register.html')\n",
    "\n",
    "\n",
    "@app.route('/dashboard')\n",
    "@login_required\n",
    "def dashboard():\n",
    "    return render_template('dashboard.html')\n",
    "\n",
    "@app.route('/logout')\n",
    "@login_required\n",
    "def logout():\n",
    "    logout_user()\n",
    "    return redirect(url_for('login'))\n",
    "\n",
    "if __name__ == '__main__':\n",
    "    app.run(debug=True)"
   ]
  },
  {
   "cell_type": "markdown",
   "id": "4615360e-e3ad-454d-835e-5b9e209b9007",
   "metadata": {},
   "source": [
    "QUESTION 43 Describe the process of connecting a Flask app to a SQLite database using SQLAlchemy."
   ]
  },
  {
   "cell_type": "code",
   "execution_count": 8,
   "id": "be00c59f-a676-4742-8bf5-3519109a4dbb",
   "metadata": {},
   "outputs": [
    {
     "name": "stdout",
     "output_type": "stream",
     "text": [
      " * Serving Flask app '__main__'\n",
      " * Debug mode: on\n"
     ]
    },
    {
     "name": "stderr",
     "output_type": "stream",
     "text": [
      "WARNING: This is a development server. Do not use it in a production deployment. Use a production WSGI server instead.\n",
      " * Running on http://127.0.0.1:5000\n",
      "Press CTRL+C to quit\n",
      " * Restarting with stat\n",
      "Traceback (most recent call last):\n",
      "  File \"/opt/conda/lib/python3.10/runpy.py\", line 196, in _run_module_as_main\n",
      "    return _run_code(code, main_globals, None,\n",
      "  File \"/opt/conda/lib/python3.10/runpy.py\", line 86, in _run_code\n",
      "    exec(code, run_globals)\n",
      "  File \"/opt/conda/lib/python3.10/site-packages/ipykernel_launcher.py\", line 17, in <module>\n",
      "    app.launch_new_instance()\n",
      "  File \"/opt/conda/lib/python3.10/site-packages/traitlets/config/application.py\", line 991, in launch_instance\n",
      "    app.initialize(argv)\n",
      "  File \"/opt/conda/lib/python3.10/site-packages/traitlets/config/application.py\", line 113, in inner\n",
      "    return method(app, *args, **kwargs)\n",
      "  File \"/opt/conda/lib/python3.10/site-packages/ipykernel/kernelapp.py\", line 665, in initialize\n",
      "    self.init_sockets()\n",
      "  File \"/opt/conda/lib/python3.10/site-packages/ipykernel/kernelapp.py\", line 309, in init_sockets\n",
      "    self.shell_port = self._bind_socket(self.shell_socket, self.shell_port)\n",
      "  File \"/opt/conda/lib/python3.10/site-packages/ipykernel/kernelapp.py\", line 246, in _bind_socket\n",
      "    return self._try_bind_socket(s, port)\n",
      "  File \"/opt/conda/lib/python3.10/site-packages/ipykernel/kernelapp.py\", line 222, in _try_bind_socket\n",
      "    s.bind(\"tcp://%s:%i\" % (self.ip, port))\n",
      "  File \"/opt/conda/lib/python3.10/site-packages/zmq/sugar/socket.py\", line 232, in bind\n",
      "    super().bind(addr)\n",
      "  File \"zmq/backend/cython/socket.pyx\", line 568, in zmq.backend.cython.socket.Socket.bind\n",
      "  File \"zmq/backend/cython/checkrc.pxd\", line 28, in zmq.backend.cython.checkrc._check_rc\n",
      "zmq.error.ZMQError: Address already in use\n"
     ]
    },
    {
     "ename": "SystemExit",
     "evalue": "1",
     "output_type": "error",
     "traceback": [
      "An exception has occurred, use %tb to see the full traceback.\n",
      "\u001b[0;31mSystemExit\u001b[0m\u001b[0;31m:\u001b[0m 1\n"
     ]
    }
   ],
   "source": [
    "from flask import Flask\n",
    "from flask_sqlalchemy import SQLAlchemy\n",
    "\n",
    "app = Flask(__name__)\n",
    "app.config['SQLALCHEMY_DATABASE_URI'] = 'sqlite:///database.db'\n",
    "db = SQLAlchemy(app)\n",
    "\n",
    "class User(db.Model):\n",
    "    id = db.Column(db.Integer, primary_key=True)\n",
    "    username = db.Column(db.String(80), unique=True, nullable=False)\n",
    "    email = db.Column(db.String(120), unique=True, nullable=False)\n",
    "\n",
    "    def __repr__(self):\n",
    "        return f'<User {self.username}>'\n",
    "    \n",
    "with app.app_context():\n",
    "    db.create_all()\n",
    "\n",
    "@app.route('/')\n",
    "def index():\n",
    "    user = User(username='hello', email='hello@example.com')\n",
    "    db.session.add(user)\n",
    "    db.session.commit()\n",
    "    return 'User added!'\n",
    "\n",
    "if __name__ == '__main__':\n",
    "    app.run(debug=True)\n"
   ]
  },
  {
   "cell_type": "markdown",
   "id": "ef387ce6-b5fb-4688-86ed-03c2e1dd3cc8",
   "metadata": {},
   "source": [
    "QUESTION 45 How would you create a RESTful API endpoint in Flask that returns JSON data?"
   ]
  },
  {
   "cell_type": "code",
   "execution_count": 9,
   "id": "7d62b93c-981d-48a6-8f8c-662b6c579175",
   "metadata": {},
   "outputs": [
    {
     "name": "stdout",
     "output_type": "stream",
     "text": [
      " * Serving Flask app '__main__'\n",
      " * Debug mode: on\n"
     ]
    },
    {
     "name": "stderr",
     "output_type": "stream",
     "text": [
      "WARNING: This is a development server. Do not use it in a production deployment. Use a production WSGI server instead.\n",
      " * Running on http://127.0.0.1:5000\n",
      "Press CTRL+C to quit\n",
      " * Restarting with stat\n",
      "Traceback (most recent call last):\n",
      "  File \"/opt/conda/lib/python3.10/runpy.py\", line 196, in _run_module_as_main\n",
      "    return _run_code(code, main_globals, None,\n",
      "  File \"/opt/conda/lib/python3.10/runpy.py\", line 86, in _run_code\n",
      "    exec(code, run_globals)\n",
      "  File \"/opt/conda/lib/python3.10/site-packages/ipykernel_launcher.py\", line 17, in <module>\n",
      "    app.launch_new_instance()\n",
      "  File \"/opt/conda/lib/python3.10/site-packages/traitlets/config/application.py\", line 991, in launch_instance\n",
      "    app.initialize(argv)\n",
      "  File \"/opt/conda/lib/python3.10/site-packages/traitlets/config/application.py\", line 113, in inner\n",
      "    return method(app, *args, **kwargs)\n",
      "  File \"/opt/conda/lib/python3.10/site-packages/ipykernel/kernelapp.py\", line 665, in initialize\n",
      "    self.init_sockets()\n",
      "  File \"/opt/conda/lib/python3.10/site-packages/ipykernel/kernelapp.py\", line 309, in init_sockets\n",
      "    self.shell_port = self._bind_socket(self.shell_socket, self.shell_port)\n",
      "  File \"/opt/conda/lib/python3.10/site-packages/ipykernel/kernelapp.py\", line 246, in _bind_socket\n",
      "    return self._try_bind_socket(s, port)\n",
      "  File \"/opt/conda/lib/python3.10/site-packages/ipykernel/kernelapp.py\", line 222, in _try_bind_socket\n",
      "    s.bind(\"tcp://%s:%i\" % (self.ip, port))\n",
      "  File \"/opt/conda/lib/python3.10/site-packages/zmq/sugar/socket.py\", line 232, in bind\n",
      "    super().bind(addr)\n",
      "  File \"zmq/backend/cython/socket.pyx\", line 568, in zmq.backend.cython.socket.Socket.bind\n",
      "  File \"zmq/backend/cython/checkrc.pxd\", line 28, in zmq.backend.cython.checkrc._check_rc\n",
      "zmq.error.ZMQError: Address already in use\n"
     ]
    },
    {
     "ename": "SystemExit",
     "evalue": "1",
     "output_type": "error",
     "traceback": [
      "An exception has occurred, use %tb to see the full traceback.\n",
      "\u001b[0;31mSystemExit\u001b[0m\u001b[0;31m:\u001b[0m 1\n"
     ]
    }
   ],
   "source": [
    "from flask import Flask, jsonify\n",
    "\n",
    "app = Flask(__name__)\n",
    "\n",
    "@app.route('/', methods=['GET'])\n",
    "def get_data():\n",
    "    data = {\n",
    "        \"message\": \"Hello, this is your JSON response!\",\n",
    "        \"status\": \"success\"\n",
    "    }\n",
    "    return jsonify(data)\n",
    "\n",
    "if __name__ == '__main__':\n",
    "    app.run(debug=True)"
   ]
  },
  {
   "cell_type": "markdown",
   "id": "f2dc8d02-b86b-4779-9ab2-497b8c986ce0",
   "metadata": {},
   "source": [
    "QUESTION 45 Explain how to use Flask-WTF to create and validate forms in a Flask application?"
   ]
  },
  {
   "cell_type": "code",
   "execution_count": 12,
   "id": "b7b89a52-18d8-47bd-b3b3-01d3de7d2737",
   "metadata": {},
   "outputs": [
    {
     "name": "stdout",
     "output_type": "stream",
     "text": [
      " * Serving Flask app '__main__'\n",
      " * Debug mode: on\n"
     ]
    },
    {
     "name": "stderr",
     "output_type": "stream",
     "text": [
      "WARNING: This is a development server. Do not use it in a production deployment. Use a production WSGI server instead.\n",
      " * Running on http://127.0.0.1:5000\n",
      "Press CTRL+C to quit\n",
      " * Restarting with stat\n",
      "Traceback (most recent call last):\n",
      "  File \"/opt/conda/lib/python3.10/runpy.py\", line 196, in _run_module_as_main\n",
      "    return _run_code(code, main_globals, None,\n",
      "  File \"/opt/conda/lib/python3.10/runpy.py\", line 86, in _run_code\n",
      "    exec(code, run_globals)\n",
      "  File \"/opt/conda/lib/python3.10/site-packages/ipykernel_launcher.py\", line 17, in <module>\n",
      "    app.launch_new_instance()\n",
      "  File \"/opt/conda/lib/python3.10/site-packages/traitlets/config/application.py\", line 991, in launch_instance\n",
      "    app.initialize(argv)\n",
      "  File \"/opt/conda/lib/python3.10/site-packages/traitlets/config/application.py\", line 113, in inner\n",
      "    return method(app, *args, **kwargs)\n",
      "  File \"/opt/conda/lib/python3.10/site-packages/ipykernel/kernelapp.py\", line 665, in initialize\n",
      "    self.init_sockets()\n",
      "  File \"/opt/conda/lib/python3.10/site-packages/ipykernel/kernelapp.py\", line 309, in init_sockets\n",
      "    self.shell_port = self._bind_socket(self.shell_socket, self.shell_port)\n",
      "  File \"/opt/conda/lib/python3.10/site-packages/ipykernel/kernelapp.py\", line 246, in _bind_socket\n",
      "    return self._try_bind_socket(s, port)\n",
      "  File \"/opt/conda/lib/python3.10/site-packages/ipykernel/kernelapp.py\", line 222, in _try_bind_socket\n",
      "    s.bind(\"tcp://%s:%i\" % (self.ip, port))\n",
      "  File \"/opt/conda/lib/python3.10/site-packages/zmq/sugar/socket.py\", line 232, in bind\n",
      "    super().bind(addr)\n",
      "  File \"zmq/backend/cython/socket.pyx\", line 568, in zmq.backend.cython.socket.Socket.bind\n",
      "  File \"zmq/backend/cython/checkrc.pxd\", line 28, in zmq.backend.cython.checkrc._check_rc\n",
      "zmq.error.ZMQError: Address already in use\n"
     ]
    },
    {
     "ename": "SystemExit",
     "evalue": "1",
     "output_type": "error",
     "traceback": [
      "An exception has occurred, use %tb to see the full traceback.\n",
      "\u001b[0;31mSystemExit\u001b[0m\u001b[0;31m:\u001b[0m 1\n"
     ]
    }
   ],
   "source": [
    "from flask_wtf import FlaskForm\n",
    "from wtforms import StringField, PasswordField, SubmitField\n",
    "from wtforms.validators import DataRequired, Length, Email\n",
    "from flask import render_template, url_for, flash, redirect, Flask\n",
    "\n",
    "app = Flask(__name__)\n",
    "app.secret_key = \"thisisme\"\n",
    "\n",
    "class RegistrationForm(FlaskForm):\n",
    "    username = StringField('Username', validators=[DataRequired(), Length(min=2, max=20)])\n",
    "    email = StringField('Email', validators=[DataRequired(), Email()])\n",
    "    password = PasswordField('Password', validators=[DataRequired()])\n",
    "    submit = SubmitField('Sign Up')\n",
    "\n",
    "@app.route('/form', methods=['GET', 'POST'])\n",
    "def register():\n",
    "    form = RegistrationForm()\n",
    "    if form.validate_on_submit():\n",
    "        # Process form data (e.g., save user to database)\n",
    "        flash(f'Account created for {form.username.data}!', 'success')\n",
    "        return redirect(url_for('home'))\n",
    "    return render_template('form.html', title='form', form=form)\n",
    "\n",
    "\n",
    "if __name__ == '__main__':\n",
    "    app.run(debug=True)"
   ]
  },
  {
   "cell_type": "markdown",
   "id": "2d2f0bdd-652d-49fa-9952-7e8d353fd9b5",
   "metadata": {},
   "source": [
    "QUESTION 46 How can you implement file uploads in a Flask application?"
   ]
  },
  {
   "cell_type": "code",
   "execution_count": 13,
   "id": "0c3a878e-fff7-47d0-a5b5-06fbaf9b3e45",
   "metadata": {},
   "outputs": [
    {
     "name": "stdout",
     "output_type": "stream",
     "text": [
      " * Serving Flask app '__main__'\n",
      " * Debug mode: on\n"
     ]
    },
    {
     "name": "stderr",
     "output_type": "stream",
     "text": [
      "WARNING: This is a development server. Do not use it in a production deployment. Use a production WSGI server instead.\n",
      " * Running on http://127.0.0.1:5000\n",
      "Press CTRL+C to quit\n",
      " * Restarting with stat\n",
      "Traceback (most recent call last):\n",
      "  File \"/opt/conda/lib/python3.10/runpy.py\", line 196, in _run_module_as_main\n",
      "    return _run_code(code, main_globals, None,\n",
      "  File \"/opt/conda/lib/python3.10/runpy.py\", line 86, in _run_code\n",
      "    exec(code, run_globals)\n",
      "  File \"/opt/conda/lib/python3.10/site-packages/ipykernel_launcher.py\", line 17, in <module>\n",
      "    app.launch_new_instance()\n",
      "  File \"/opt/conda/lib/python3.10/site-packages/traitlets/config/application.py\", line 991, in launch_instance\n",
      "    app.initialize(argv)\n",
      "  File \"/opt/conda/lib/python3.10/site-packages/traitlets/config/application.py\", line 113, in inner\n",
      "    return method(app, *args, **kwargs)\n",
      "  File \"/opt/conda/lib/python3.10/site-packages/ipykernel/kernelapp.py\", line 665, in initialize\n",
      "    self.init_sockets()\n",
      "  File \"/opt/conda/lib/python3.10/site-packages/ipykernel/kernelapp.py\", line 309, in init_sockets\n",
      "    self.shell_port = self._bind_socket(self.shell_socket, self.shell_port)\n",
      "  File \"/opt/conda/lib/python3.10/site-packages/ipykernel/kernelapp.py\", line 246, in _bind_socket\n",
      "    return self._try_bind_socket(s, port)\n",
      "  File \"/opt/conda/lib/python3.10/site-packages/ipykernel/kernelapp.py\", line 222, in _try_bind_socket\n",
      "    s.bind(\"tcp://%s:%i\" % (self.ip, port))\n",
      "  File \"/opt/conda/lib/python3.10/site-packages/zmq/sugar/socket.py\", line 232, in bind\n",
      "    super().bind(addr)\n",
      "  File \"zmq/backend/cython/socket.pyx\", line 568, in zmq.backend.cython.socket.Socket.bind\n",
      "  File \"zmq/backend/cython/checkrc.pxd\", line 28, in zmq.backend.cython.checkrc._check_rc\n",
      "zmq.error.ZMQError: Address already in use\n"
     ]
    },
    {
     "ename": "SystemExit",
     "evalue": "1",
     "output_type": "error",
     "traceback": [
      "An exception has occurred, use %tb to see the full traceback.\n",
      "\u001b[0;31mSystemExit\u001b[0m\u001b[0;31m:\u001b[0m 1\n"
     ]
    }
   ],
   "source": [
    "from flask import Flask, request, render_template\n",
    "\n",
    "app = Flask(__name__)\n",
    "\n",
    "@app.route('/upload', methods=['GET', 'POST'])\n",
    "def upload_file():\n",
    "    if request.method == 'POST':\n",
    "        uploaded_file = request.files['file']\n",
    "        return \"File uploaded successfully!\"\n",
    "    return render_template('upload.html')\n",
    "\n",
    "if __name__ == '__main__':\n",
    "    app.run(debug=True)"
   ]
  },
  {
   "cell_type": "markdown",
   "id": "93d8601b-dd41-4fe8-ae22-218fedaeffb2",
   "metadata": {},
   "source": [
    "QUESTION 47 Describe the steps to create a Flask blueprint and why you might use one."
   ]
  },
  {
   "cell_type": "code",
   "execution_count": null,
   "id": "3d54b16b-5d28-4123-b5b2-fe1431b2e9e2",
   "metadata": {},
   "outputs": [],
   "source": []
  }
 ],
 "metadata": {
  "kernelspec": {
   "display_name": "Python 3 (ipykernel)",
   "language": "python",
   "name": "python3"
  },
  "language_info": {
   "codemirror_mode": {
    "name": "ipython",
    "version": 3
   },
   "file_extension": ".py",
   "mimetype": "text/x-python",
   "name": "python",
   "nbconvert_exporter": "python",
   "pygments_lexer": "ipython3",
   "version": "3.10.8"
  }
 },
 "nbformat": 4,
 "nbformat_minor": 5
}
